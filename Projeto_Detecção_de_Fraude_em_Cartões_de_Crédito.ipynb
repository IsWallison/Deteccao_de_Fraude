{
  "nbformat": 4,
  "nbformat_minor": 0,
  "metadata": {
    "colab": {
      "provenance": [],
      "include_colab_link": true
    },
    "kernelspec": {
      "name": "python3",
      "display_name": "Python 3"
    }
  },
  "cells": [
    {
      "cell_type": "markdown",
      "metadata": {
        "id": "view-in-github",
        "colab_type": "text"
      },
      "source": [
        "<a href=\"https://colab.research.google.com/github/IsWallison/Deteccao_de_Fraude/blob/main/Projeto_Detec%C3%A7%C3%A3o_de_Fraude_em_Cart%C3%B5es_de_Cr%C3%A9dito.ipynb\" target=\"_parent\"><img src=\"https://colab.research.google.com/assets/colab-badge.svg\" alt=\"Open In Colab\"/></a>"
      ]
    },
    {
      "cell_type": "markdown",
      "metadata": {
        "id": "sC2BFMOKN1M7"
      },
      "source": [
        "---\n",
        "<img alt=\"Colaboratory logo\" width=\"15%\" src=\"https://raw.githubusercontent.com/carlosfab/escola-data-science/master/img/novo_logo_bg_claro.png\">\n",
        "\n",
        "#### **Data Science na Prática 3.0**\n",
        "*by [sigmoidal.ai](https://sigmoidal.ai)*  \n",
        "\n",
        "---"
      ]
    },
    {
      "cell_type": "markdown",
      "metadata": {
        "id": "IR56trFcPcC1"
      },
      "source": [
        "# Detecção de Fraudes em Cartões de Crédito\n",
        "\n",
        "Neste projeto, iremos abordar o problema das fraudes em cartões de crédito, uma das principais preocupações das instituições financeiras como bancos e *fintechs*. Apenas no Brasil, cerca de 12,1 milhões de pessoas já foram vítimas de algum tipo de fraude financeira no último ano. Traduzindo em valores, os golpes financeiros ultrapassaram a cifra de R$ 1,8 bilhão de prejuízo por ano para os últimos 12 meses.\n",
        "\n",
        "<p align=center>\n",
        "<img src=\"https://images.unsplash.com/photo-1592772874383-d08932d29db7?ixid=MnwxMjA3fDB8MHxwaG90by1wYWdlfHx8fGVufDB8fHx8&ixlib=rb-1.2.1&auto=format&fit=crop&w=699&q=80\" width=\"60%\"></p>\n",
        "\n",
        "Dentre essas fraudes, aquelas envolvendo cartões de crédito são de grande relevância uma vez que a sua não-detecção acaretará em prejuízos consideráveis, tanto para o consumidor quanto para a instituição financeira.\n",
        "\n",
        "Um outro fator a ser considerado é a quantidade de falsos positivos, ou seja, aquelas vezes em que você tentou fazer uma compra e teve seu cartão bloqueado preventivamente - o que provavelmente gerou estresse e constrangimento.\n",
        "\n",
        "Por todos esses motivos, o investimento na área de detecção de fraudes por meio de Inteligência Artificial vem crescendo a cada ano, representando uma grande oportunidade em *Data Science*. \n",
        "\n",
        "Dispondo de grandes volumes de dados como base histórica, um algoritmo de machine learning apenas um pouco melhor que os anteriores já representa uma economia de milhões de Reais. E esse é o desafio, aprimorar cada vez mais o uso de algoritmos visando inibir ou evitar transações fraudulentas."
      ]
    },
    {
      "cell_type": "markdown",
      "metadata": {
        "id": "0HVmpIxQWT4Y"
      },
      "source": [
        "## Importando os Dados\n",
        "\n",
        "Os dados que usaremos neste projeto foram disponibilizados por algumas empresas européias de cartão de crédito. O *dataset* representa as operações financeiras que aconteceram no período de dois dias, onde foram classificadas 492 fraudes em meio a quase 290 mil transações.\n",
        "\n",
        "Como você pode notar, este é um conjunto de dados extremamente desbalanceado, onde as fraudes representam apenas 0,17% do total.\n",
        "\n",
        "Outro detalhe interessante é que as *features* são todas numéricas, e foram descaracterizadas (por problemas ligados à privacidade e segurança). Assim, os nomes das colunas são representados por $[V1, V2, V3 \\dots, V28]$ \n",
        "\n",
        "<p align=center>\n",
        "<img src=\"https://images.unsplash.com/photo-1620714223084-8fcacc6dfd8d?ixid=MnwxMjA3fDB8MHxwaG90by1wYWdlfHx8fGVufDB8fHx8&ixlib=rb-1.2.1&auto=format&fit=crop&w=1051&q=80\" width=\"50%\"></p>\n",
        "\n",
        "[Na página original dos dados](https://www.kaggle.com/mlg-ulb/creditcardfraud), também é informado que as variáveis passaram por uma transformação conhecida como Análise de Componentes Principais (*Principal Component Analysis* - PCA).\n",
        "\n",
        "A PCA permite a redução da dimensionalidade enquanto mantém o maior número possível de informações. Para conseguir isso, o algoritmo encontra um conjunto novo de recursos - os chamados **componentes**.\n",
        "\n",
        "Esses componentes são em número menor or igual às variáveis originais. No caso deste projeto, os componentes achados pela transformação da PCA são as próprias colunas $[V1, V2, V3 \\dots, V28]$.\n",
        "\n",
        "Neste código, vamos importar algumas bibliotecas para ajudar a realizar as tarefas específicas que precisamos. Essas bibliotecas fornecem conjuntos de funções e classes pré-escritas que nos permitirão realizar as tarefas de forma mais eficiente e evitarão a necessidade de escrever tudo do zero."
      ]
    },
    {
      "cell_type": "code",
      "metadata": {
        "id": "oQ4bNy7udtEE"
      },
      "source": [
        "# importar os pacotes necessários\n",
        "import pandas as pd\n",
        "import numpy as np\n",
        "import matplotlib.pyplot as plt\n",
        "import seaborn as sns\n",
        "\n",
        "\n",
        "from sklearn.model_selection import train_test_split\n",
        "from sklearn.preprocessing import StandardScaler\n",
        "from sklearn.metrics import roc_auc_score, roc_curve, accuracy_score\n",
        "from sklearn.metrics import classification_report, mean_absolute_error, mean_squared_error, confusion_matrix\n",
        "\n",
        "# Importar os modelos\n",
        "from sklearn.neighbors import KNeighborsClassifier\n",
        "from sklearn.naive_bayes import GaussianNB\n",
        "from sklearn.linear_model import LogisticRegression\n",
        "from sklearn.tree import DecisionTreeRegressor\n",
        "\n",
        "from imblearn.under_sampling import RandomUnderSampler\n",
        "import warnings\n",
        "warnings.filterwarnings('ignore')"
      ],
      "execution_count": 214,
      "outputs": []
    },
    {
      "cell_type": "markdown",
      "metadata": {
        "id": "g5XDTWW5LRVe"
      },
      "source": [
        "Para facilitar a aquisição dos dados, criei um *link* com acesso direto ao `csv`.\n",
        "\n",
        "CSV é a sigla para Comma Separated Values (em português, valores separados por vírgulas). Um arquivo CSV é um arquivo de texto simples que armazena informações de planilhas e tabelas. O conteúdo geralmente é uma tabela de texto, números ou datas. Os arquivos CSV podem ser facilmente importados e exportados usando programas que armazenam dados em tabelas.\n",
        "\n",
        "Os dados serão atribuidos a variável 'df'."
      ]
    },
    {
      "cell_type": "code",
      "metadata": {
        "id": "4NxUOfDOj2j8",
        "colab": {
          "base_uri": "https://localhost:8080/"
        },
        "outputId": "44be0c34-94ce-49d6-c5b0-96966b0f60bb"
      },
      "source": [
        "file_path = \"https://www.dropbox.com/s/b44o3t3ehmnx2b7/creditcard.csv?dl=1\"\n",
        "\n",
        "# importar os dados para um dataframe\n",
        "df = pd.read_csv(file_path)\n",
        "\n",
        "# dimensões do conjunto original\n",
        "print(\"Dimensões do Conjunto Original: \", df.shape)\n"
      ],
      "execution_count": 215,
      "outputs": [
        {
          "output_type": "stream",
          "name": "stdout",
          "text": [
            "Dimensões do Conjunto Original:  (284807, 31)\n"
          ]
        }
      ]
    },
    {
      "cell_type": "markdown",
      "metadata": {
        "id": "7nF_Dhd81Cvq"
      },
      "source": [
        "Com os dados importados para dentro de uma estrutura *Dataframe* - e não havendo a necessidade de mais nenhum ajuste ou configuração nesta etapa, pode-se iniciar uma análise exploratória dos dados a fim de preparar um modelo de *Machine Learning*.\n",
        "\n",
        "Vamos à Análise Exploratória."
      ]
    },
    {
      "cell_type": "markdown",
      "metadata": {
        "id": "8UtXyZ6stlSM"
      },
      "source": [
        "## Análise Exploratória\n",
        "\n",
        "* Ver as 5 primeiras entradas através da função **head()**, Ela é usada para retornar as primeiras N linhas de um conjunto de dados, onde N é um valor especificado pelo usuário, por padrão o valor de N é 5.\n"
      ]
    },
    {
      "cell_type": "code",
      "source": [
        "df.head()"
      ],
      "metadata": {
        "id": "rNslpc8aQ3AC",
        "colab": {
          "base_uri": "https://localhost:8080/",
          "height": 235
        },
        "outputId": "5f76f810-9139-4aaa-8985-2b5797f7dc09"
      },
      "execution_count": 216,
      "outputs": [
        {
          "output_type": "execute_result",
          "data": {
            "text/plain": [
              "   Time        V1        V2        V3        V4        V5        V6        V7  \\\n",
              "0   0.0 -1.359807 -0.072781  2.536347  1.378155 -0.338321  0.462388  0.239599   \n",
              "1   0.0  1.191857  0.266151  0.166480  0.448154  0.060018 -0.082361 -0.078803   \n",
              "2   1.0 -1.358354 -1.340163  1.773209  0.379780 -0.503198  1.800499  0.791461   \n",
              "3   1.0 -0.966272 -0.185226  1.792993 -0.863291 -0.010309  1.247203  0.237609   \n",
              "4   2.0 -1.158233  0.877737  1.548718  0.403034 -0.407193  0.095921  0.592941   \n",
              "\n",
              "         V8        V9  ...       V21       V22       V23       V24       V25  \\\n",
              "0  0.098698  0.363787  ... -0.018307  0.277838 -0.110474  0.066928  0.128539   \n",
              "1  0.085102 -0.255425  ... -0.225775 -0.638672  0.101288 -0.339846  0.167170   \n",
              "2  0.247676 -1.514654  ...  0.247998  0.771679  0.909412 -0.689281 -0.327642   \n",
              "3  0.377436 -1.387024  ... -0.108300  0.005274 -0.190321 -1.175575  0.647376   \n",
              "4 -0.270533  0.817739  ... -0.009431  0.798278 -0.137458  0.141267 -0.206010   \n",
              "\n",
              "        V26       V27       V28  Amount  Class  \n",
              "0 -0.189115  0.133558 -0.021053  149.62      0  \n",
              "1  0.125895 -0.008983  0.014724    2.69      0  \n",
              "2 -0.139097 -0.055353 -0.059752  378.66      0  \n",
              "3 -0.221929  0.062723  0.061458  123.50      0  \n",
              "4  0.502292  0.219422  0.215153   69.99      0  \n",
              "\n",
              "[5 rows x 31 columns]"
            ],
            "text/html": [
              "\n",
              "  <div id=\"df-260e557c-d8e1-4a3c-9007-288e7586da4a\">\n",
              "    <div class=\"colab-df-container\">\n",
              "      <div>\n",
              "<style scoped>\n",
              "    .dataframe tbody tr th:only-of-type {\n",
              "        vertical-align: middle;\n",
              "    }\n",
              "\n",
              "    .dataframe tbody tr th {\n",
              "        vertical-align: top;\n",
              "    }\n",
              "\n",
              "    .dataframe thead th {\n",
              "        text-align: right;\n",
              "    }\n",
              "</style>\n",
              "<table border=\"1\" class=\"dataframe\">\n",
              "  <thead>\n",
              "    <tr style=\"text-align: right;\">\n",
              "      <th></th>\n",
              "      <th>Time</th>\n",
              "      <th>V1</th>\n",
              "      <th>V2</th>\n",
              "      <th>V3</th>\n",
              "      <th>V4</th>\n",
              "      <th>V5</th>\n",
              "      <th>V6</th>\n",
              "      <th>V7</th>\n",
              "      <th>V8</th>\n",
              "      <th>V9</th>\n",
              "      <th>...</th>\n",
              "      <th>V21</th>\n",
              "      <th>V22</th>\n",
              "      <th>V23</th>\n",
              "      <th>V24</th>\n",
              "      <th>V25</th>\n",
              "      <th>V26</th>\n",
              "      <th>V27</th>\n",
              "      <th>V28</th>\n",
              "      <th>Amount</th>\n",
              "      <th>Class</th>\n",
              "    </tr>\n",
              "  </thead>\n",
              "  <tbody>\n",
              "    <tr>\n",
              "      <th>0</th>\n",
              "      <td>0.0</td>\n",
              "      <td>-1.359807</td>\n",
              "      <td>-0.072781</td>\n",
              "      <td>2.536347</td>\n",
              "      <td>1.378155</td>\n",
              "      <td>-0.338321</td>\n",
              "      <td>0.462388</td>\n",
              "      <td>0.239599</td>\n",
              "      <td>0.098698</td>\n",
              "      <td>0.363787</td>\n",
              "      <td>...</td>\n",
              "      <td>-0.018307</td>\n",
              "      <td>0.277838</td>\n",
              "      <td>-0.110474</td>\n",
              "      <td>0.066928</td>\n",
              "      <td>0.128539</td>\n",
              "      <td>-0.189115</td>\n",
              "      <td>0.133558</td>\n",
              "      <td>-0.021053</td>\n",
              "      <td>149.62</td>\n",
              "      <td>0</td>\n",
              "    </tr>\n",
              "    <tr>\n",
              "      <th>1</th>\n",
              "      <td>0.0</td>\n",
              "      <td>1.191857</td>\n",
              "      <td>0.266151</td>\n",
              "      <td>0.166480</td>\n",
              "      <td>0.448154</td>\n",
              "      <td>0.060018</td>\n",
              "      <td>-0.082361</td>\n",
              "      <td>-0.078803</td>\n",
              "      <td>0.085102</td>\n",
              "      <td>-0.255425</td>\n",
              "      <td>...</td>\n",
              "      <td>-0.225775</td>\n",
              "      <td>-0.638672</td>\n",
              "      <td>0.101288</td>\n",
              "      <td>-0.339846</td>\n",
              "      <td>0.167170</td>\n",
              "      <td>0.125895</td>\n",
              "      <td>-0.008983</td>\n",
              "      <td>0.014724</td>\n",
              "      <td>2.69</td>\n",
              "      <td>0</td>\n",
              "    </tr>\n",
              "    <tr>\n",
              "      <th>2</th>\n",
              "      <td>1.0</td>\n",
              "      <td>-1.358354</td>\n",
              "      <td>-1.340163</td>\n",
              "      <td>1.773209</td>\n",
              "      <td>0.379780</td>\n",
              "      <td>-0.503198</td>\n",
              "      <td>1.800499</td>\n",
              "      <td>0.791461</td>\n",
              "      <td>0.247676</td>\n",
              "      <td>-1.514654</td>\n",
              "      <td>...</td>\n",
              "      <td>0.247998</td>\n",
              "      <td>0.771679</td>\n",
              "      <td>0.909412</td>\n",
              "      <td>-0.689281</td>\n",
              "      <td>-0.327642</td>\n",
              "      <td>-0.139097</td>\n",
              "      <td>-0.055353</td>\n",
              "      <td>-0.059752</td>\n",
              "      <td>378.66</td>\n",
              "      <td>0</td>\n",
              "    </tr>\n",
              "    <tr>\n",
              "      <th>3</th>\n",
              "      <td>1.0</td>\n",
              "      <td>-0.966272</td>\n",
              "      <td>-0.185226</td>\n",
              "      <td>1.792993</td>\n",
              "      <td>-0.863291</td>\n",
              "      <td>-0.010309</td>\n",
              "      <td>1.247203</td>\n",
              "      <td>0.237609</td>\n",
              "      <td>0.377436</td>\n",
              "      <td>-1.387024</td>\n",
              "      <td>...</td>\n",
              "      <td>-0.108300</td>\n",
              "      <td>0.005274</td>\n",
              "      <td>-0.190321</td>\n",
              "      <td>-1.175575</td>\n",
              "      <td>0.647376</td>\n",
              "      <td>-0.221929</td>\n",
              "      <td>0.062723</td>\n",
              "      <td>0.061458</td>\n",
              "      <td>123.50</td>\n",
              "      <td>0</td>\n",
              "    </tr>\n",
              "    <tr>\n",
              "      <th>4</th>\n",
              "      <td>2.0</td>\n",
              "      <td>-1.158233</td>\n",
              "      <td>0.877737</td>\n",
              "      <td>1.548718</td>\n",
              "      <td>0.403034</td>\n",
              "      <td>-0.407193</td>\n",
              "      <td>0.095921</td>\n",
              "      <td>0.592941</td>\n",
              "      <td>-0.270533</td>\n",
              "      <td>0.817739</td>\n",
              "      <td>...</td>\n",
              "      <td>-0.009431</td>\n",
              "      <td>0.798278</td>\n",
              "      <td>-0.137458</td>\n",
              "      <td>0.141267</td>\n",
              "      <td>-0.206010</td>\n",
              "      <td>0.502292</td>\n",
              "      <td>0.219422</td>\n",
              "      <td>0.215153</td>\n",
              "      <td>69.99</td>\n",
              "      <td>0</td>\n",
              "    </tr>\n",
              "  </tbody>\n",
              "</table>\n",
              "<p>5 rows × 31 columns</p>\n",
              "</div>\n",
              "      <button class=\"colab-df-convert\" onclick=\"convertToInteractive('df-260e557c-d8e1-4a3c-9007-288e7586da4a')\"\n",
              "              title=\"Convert this dataframe to an interactive table.\"\n",
              "              style=\"display:none;\">\n",
              "        \n",
              "  <svg xmlns=\"http://www.w3.org/2000/svg\" height=\"24px\"viewBox=\"0 0 24 24\"\n",
              "       width=\"24px\">\n",
              "    <path d=\"M0 0h24v24H0V0z\" fill=\"none\"/>\n",
              "    <path d=\"M18.56 5.44l.94 2.06.94-2.06 2.06-.94-2.06-.94-.94-2.06-.94 2.06-2.06.94zm-11 1L8.5 8.5l.94-2.06 2.06-.94-2.06-.94L8.5 2.5l-.94 2.06-2.06.94zm10 10l.94 2.06.94-2.06 2.06-.94-2.06-.94-.94-2.06-.94 2.06-2.06.94z\"/><path d=\"M17.41 7.96l-1.37-1.37c-.4-.4-.92-.59-1.43-.59-.52 0-1.04.2-1.43.59L10.3 9.45l-7.72 7.72c-.78.78-.78 2.05 0 2.83L4 21.41c.39.39.9.59 1.41.59.51 0 1.02-.2 1.41-.59l7.78-7.78 2.81-2.81c.8-.78.8-2.07 0-2.86zM5.41 20L4 18.59l7.72-7.72 1.47 1.35L5.41 20z\"/>\n",
              "  </svg>\n",
              "      </button>\n",
              "      \n",
              "  <style>\n",
              "    .colab-df-container {\n",
              "      display:flex;\n",
              "      flex-wrap:wrap;\n",
              "      gap: 12px;\n",
              "    }\n",
              "\n",
              "    .colab-df-convert {\n",
              "      background-color: #E8F0FE;\n",
              "      border: none;\n",
              "      border-radius: 50%;\n",
              "      cursor: pointer;\n",
              "      display: none;\n",
              "      fill: #1967D2;\n",
              "      height: 32px;\n",
              "      padding: 0 0 0 0;\n",
              "      width: 32px;\n",
              "    }\n",
              "\n",
              "    .colab-df-convert:hover {\n",
              "      background-color: #E2EBFA;\n",
              "      box-shadow: 0px 1px 2px rgba(60, 64, 67, 0.3), 0px 1px 3px 1px rgba(60, 64, 67, 0.15);\n",
              "      fill: #174EA6;\n",
              "    }\n",
              "\n",
              "    [theme=dark] .colab-df-convert {\n",
              "      background-color: #3B4455;\n",
              "      fill: #D2E3FC;\n",
              "    }\n",
              "\n",
              "    [theme=dark] .colab-df-convert:hover {\n",
              "      background-color: #434B5C;\n",
              "      box-shadow: 0px 1px 3px 1px rgba(0, 0, 0, 0.15);\n",
              "      filter: drop-shadow(0px 1px 2px rgba(0, 0, 0, 0.3));\n",
              "      fill: #FFFFFF;\n",
              "    }\n",
              "  </style>\n",
              "\n",
              "      <script>\n",
              "        const buttonEl =\n",
              "          document.querySelector('#df-260e557c-d8e1-4a3c-9007-288e7586da4a button.colab-df-convert');\n",
              "        buttonEl.style.display =\n",
              "          google.colab.kernel.accessAllowed ? 'block' : 'none';\n",
              "\n",
              "        async function convertToInteractive(key) {\n",
              "          const element = document.querySelector('#df-260e557c-d8e1-4a3c-9007-288e7586da4a');\n",
              "          const dataTable =\n",
              "            await google.colab.kernel.invokeFunction('convertToInteractive',\n",
              "                                                     [key], {});\n",
              "          if (!dataTable) return;\n",
              "\n",
              "          const docLinkHtml = 'Like what you see? Visit the ' +\n",
              "            '<a target=\"_blank\" href=https://colab.research.google.com/notebooks/data_table.ipynb>data table notebook</a>'\n",
              "            + ' to learn more about interactive tables.';\n",
              "          element.innerHTML = '';\n",
              "          dataTable['output_type'] = 'display_data';\n",
              "          await google.colab.output.renderOutput(dataTable, element);\n",
              "          const docLink = document.createElement('div');\n",
              "          docLink.innerHTML = docLinkHtml;\n",
              "          element.appendChild(docLink);\n",
              "        }\n",
              "      </script>\n",
              "    </div>\n",
              "  </div>\n",
              "  "
            ]
          },
          "metadata": {},
          "execution_count": 216
        }
      ]
    },
    {
      "cell_type": "markdown",
      "source": [
        "Vamos conferir o nome de todas as colunas através do método *columns*"
      ],
      "metadata": {
        "id": "9EBAdQoTDE2q"
      }
    },
    {
      "cell_type": "code",
      "source": [
        "df.columns"
      ],
      "metadata": {
        "id": "xJdopTfKylBq",
        "colab": {
          "base_uri": "https://localhost:8080/"
        },
        "outputId": "b29ad0dc-099a-4b1f-dd88-71b5345693cf"
      },
      "execution_count": 217,
      "outputs": [
        {
          "output_type": "execute_result",
          "data": {
            "text/plain": [
              "Index(['Time', 'V1', 'V2', 'V3', 'V4', 'V5', 'V6', 'V7', 'V8', 'V9', 'V10',\n",
              "       'V11', 'V12', 'V13', 'V14', 'V15', 'V16', 'V17', 'V18', 'V19', 'V20',\n",
              "       'V21', 'V22', 'V23', 'V24', 'V25', 'V26', 'V27', 'V28', 'Amount',\n",
              "       'Class'],\n",
              "      dtype='object')"
            ]
          },
          "metadata": {},
          "execution_count": 217
        }
      ]
    },
    {
      "cell_type": "markdown",
      "source": [
        "Vamos ver o resumo estatístico do dataframe com o auxílio da função \"describe()\" que é uma função comum em bibliotecas de análise de dados, ela é usada para calcular estatísticas descritivas básicas de um conjunto de dados, como média, desvio padrão, quartis e contagem.\n",
        "\n",
        "Só vamos analisar as vaviáveis mais relevantes: \n",
        "'Time', 'Amount' e 'Class'\n",
        "\n",
        "Time: Tempo  \n",
        "Amount: Quantidade   \n",
        "Class: Classe(fraude ou normal)\n",
        "\n"
      ],
      "metadata": {
        "id": "-2jC6n6Xwcnd"
      }
    },
    {
      "cell_type": "code",
      "source": [
        "df[['Time','Amount', 'Class']].describe().round(2)"
      ],
      "metadata": {
        "id": "L6_BqGIqQ7Ag",
        "colab": {
          "base_uri": "https://localhost:8080/",
          "height": 300
        },
        "outputId": "6d9c3270-84fa-4fc4-aa72-500ba5d09666"
      },
      "execution_count": 218,
      "outputs": [
        {
          "output_type": "execute_result",
          "data": {
            "text/plain": [
              "            Time     Amount      Class\n",
              "count  284807.00  284807.00  284807.00\n",
              "mean    94813.86      88.35       0.00\n",
              "std     47488.15     250.12       0.04\n",
              "min         0.00       0.00       0.00\n",
              "25%     54201.50       5.60       0.00\n",
              "50%     84692.00      22.00       0.00\n",
              "75%    139320.50      77.16       0.00\n",
              "max    172792.00   25691.16       1.00"
            ],
            "text/html": [
              "\n",
              "  <div id=\"df-9bf394f5-9742-44a2-9649-884808f4dfa3\">\n",
              "    <div class=\"colab-df-container\">\n",
              "      <div>\n",
              "<style scoped>\n",
              "    .dataframe tbody tr th:only-of-type {\n",
              "        vertical-align: middle;\n",
              "    }\n",
              "\n",
              "    .dataframe tbody tr th {\n",
              "        vertical-align: top;\n",
              "    }\n",
              "\n",
              "    .dataframe thead th {\n",
              "        text-align: right;\n",
              "    }\n",
              "</style>\n",
              "<table border=\"1\" class=\"dataframe\">\n",
              "  <thead>\n",
              "    <tr style=\"text-align: right;\">\n",
              "      <th></th>\n",
              "      <th>Time</th>\n",
              "      <th>Amount</th>\n",
              "      <th>Class</th>\n",
              "    </tr>\n",
              "  </thead>\n",
              "  <tbody>\n",
              "    <tr>\n",
              "      <th>count</th>\n",
              "      <td>284807.00</td>\n",
              "      <td>284807.00</td>\n",
              "      <td>284807.00</td>\n",
              "    </tr>\n",
              "    <tr>\n",
              "      <th>mean</th>\n",
              "      <td>94813.86</td>\n",
              "      <td>88.35</td>\n",
              "      <td>0.00</td>\n",
              "    </tr>\n",
              "    <tr>\n",
              "      <th>std</th>\n",
              "      <td>47488.15</td>\n",
              "      <td>250.12</td>\n",
              "      <td>0.04</td>\n",
              "    </tr>\n",
              "    <tr>\n",
              "      <th>min</th>\n",
              "      <td>0.00</td>\n",
              "      <td>0.00</td>\n",
              "      <td>0.00</td>\n",
              "    </tr>\n",
              "    <tr>\n",
              "      <th>25%</th>\n",
              "      <td>54201.50</td>\n",
              "      <td>5.60</td>\n",
              "      <td>0.00</td>\n",
              "    </tr>\n",
              "    <tr>\n",
              "      <th>50%</th>\n",
              "      <td>84692.00</td>\n",
              "      <td>22.00</td>\n",
              "      <td>0.00</td>\n",
              "    </tr>\n",
              "    <tr>\n",
              "      <th>75%</th>\n",
              "      <td>139320.50</td>\n",
              "      <td>77.16</td>\n",
              "      <td>0.00</td>\n",
              "    </tr>\n",
              "    <tr>\n",
              "      <th>max</th>\n",
              "      <td>172792.00</td>\n",
              "      <td>25691.16</td>\n",
              "      <td>1.00</td>\n",
              "    </tr>\n",
              "  </tbody>\n",
              "</table>\n",
              "</div>\n",
              "      <button class=\"colab-df-convert\" onclick=\"convertToInteractive('df-9bf394f5-9742-44a2-9649-884808f4dfa3')\"\n",
              "              title=\"Convert this dataframe to an interactive table.\"\n",
              "              style=\"display:none;\">\n",
              "        \n",
              "  <svg xmlns=\"http://www.w3.org/2000/svg\" height=\"24px\"viewBox=\"0 0 24 24\"\n",
              "       width=\"24px\">\n",
              "    <path d=\"M0 0h24v24H0V0z\" fill=\"none\"/>\n",
              "    <path d=\"M18.56 5.44l.94 2.06.94-2.06 2.06-.94-2.06-.94-.94-2.06-.94 2.06-2.06.94zm-11 1L8.5 8.5l.94-2.06 2.06-.94-2.06-.94L8.5 2.5l-.94 2.06-2.06.94zm10 10l.94 2.06.94-2.06 2.06-.94-2.06-.94-.94-2.06-.94 2.06-2.06.94z\"/><path d=\"M17.41 7.96l-1.37-1.37c-.4-.4-.92-.59-1.43-.59-.52 0-1.04.2-1.43.59L10.3 9.45l-7.72 7.72c-.78.78-.78 2.05 0 2.83L4 21.41c.39.39.9.59 1.41.59.51 0 1.02-.2 1.41-.59l7.78-7.78 2.81-2.81c.8-.78.8-2.07 0-2.86zM5.41 20L4 18.59l7.72-7.72 1.47 1.35L5.41 20z\"/>\n",
              "  </svg>\n",
              "      </button>\n",
              "      \n",
              "  <style>\n",
              "    .colab-df-container {\n",
              "      display:flex;\n",
              "      flex-wrap:wrap;\n",
              "      gap: 12px;\n",
              "    }\n",
              "\n",
              "    .colab-df-convert {\n",
              "      background-color: #E8F0FE;\n",
              "      border: none;\n",
              "      border-radius: 50%;\n",
              "      cursor: pointer;\n",
              "      display: none;\n",
              "      fill: #1967D2;\n",
              "      height: 32px;\n",
              "      padding: 0 0 0 0;\n",
              "      width: 32px;\n",
              "    }\n",
              "\n",
              "    .colab-df-convert:hover {\n",
              "      background-color: #E2EBFA;\n",
              "      box-shadow: 0px 1px 2px rgba(60, 64, 67, 0.3), 0px 1px 3px 1px rgba(60, 64, 67, 0.15);\n",
              "      fill: #174EA6;\n",
              "    }\n",
              "\n",
              "    [theme=dark] .colab-df-convert {\n",
              "      background-color: #3B4455;\n",
              "      fill: #D2E3FC;\n",
              "    }\n",
              "\n",
              "    [theme=dark] .colab-df-convert:hover {\n",
              "      background-color: #434B5C;\n",
              "      box-shadow: 0px 1px 3px 1px rgba(0, 0, 0, 0.15);\n",
              "      filter: drop-shadow(0px 1px 2px rgba(0, 0, 0, 0.3));\n",
              "      fill: #FFFFFF;\n",
              "    }\n",
              "  </style>\n",
              "\n",
              "      <script>\n",
              "        const buttonEl =\n",
              "          document.querySelector('#df-9bf394f5-9742-44a2-9649-884808f4dfa3 button.colab-df-convert');\n",
              "        buttonEl.style.display =\n",
              "          google.colab.kernel.accessAllowed ? 'block' : 'none';\n",
              "\n",
              "        async function convertToInteractive(key) {\n",
              "          const element = document.querySelector('#df-9bf394f5-9742-44a2-9649-884808f4dfa3');\n",
              "          const dataTable =\n",
              "            await google.colab.kernel.invokeFunction('convertToInteractive',\n",
              "                                                     [key], {});\n",
              "          if (!dataTable) return;\n",
              "\n",
              "          const docLinkHtml = 'Like what you see? Visit the ' +\n",
              "            '<a target=\"_blank\" href=https://colab.research.google.com/notebooks/data_table.ipynb>data table notebook</a>'\n",
              "            + ' to learn more about interactive tables.';\n",
              "          element.innerHTML = '';\n",
              "          dataTable['output_type'] = 'display_data';\n",
              "          await google.colab.output.renderOutput(dataTable, element);\n",
              "          const docLink = document.createElement('div');\n",
              "          docLink.innerHTML = docLinkHtml;\n",
              "          element.appendChild(docLink);\n",
              "        }\n",
              "      </script>\n",
              "    </div>\n",
              "  </div>\n",
              "  "
            ]
          },
          "metadata": {},
          "execution_count": 218
        }
      ]
    },
    {
      "cell_type": "markdown",
      "source": [
        "Os valores de 'Time' e 'Amount\" variam de 0 até 172.792 e 0 até 25.691 respectivamente, terão de ser normalizados, pois apresentam uma escala muito diferente."
      ],
      "metadata": {
        "id": "XFPt2szz4E6y"
      }
    },
    {
      "cell_type": "markdown",
      "source": [
        "A função \"info()\" é usada para obter informações gerais sobre um conjunto de dados, incluindo o número de linhas e colunas, o tipo de dados de cada coluna, a quantidade de valores não-nulos e memória usada."
      ],
      "metadata": {
        "id": "uOan8pKDy7yQ"
      }
    },
    {
      "cell_type": "code",
      "source": [
        "df.info()\n",
        "df_linhas = df.shape[0]\n",
        "df_colunas = df.shape[1]\n",
        "print(f'Analisando o dataset temos: {df_linhas} linhas e {df_colunas} colunas')"
      ],
      "metadata": {
        "id": "xcWvtK-sVYFG",
        "colab": {
          "base_uri": "https://localhost:8080/"
        },
        "outputId": "f71570e8-2ee8-4708-8826-71fa07d1edb6"
      },
      "execution_count": 219,
      "outputs": [
        {
          "output_type": "stream",
          "name": "stdout",
          "text": [
            "<class 'pandas.core.frame.DataFrame'>\n",
            "RangeIndex: 284807 entries, 0 to 284806\n",
            "Data columns (total 31 columns):\n",
            " #   Column  Non-Null Count   Dtype  \n",
            "---  ------  --------------   -----  \n",
            " 0   Time    284807 non-null  float64\n",
            " 1   V1      284807 non-null  float64\n",
            " 2   V2      284807 non-null  float64\n",
            " 3   V3      284807 non-null  float64\n",
            " 4   V4      284807 non-null  float64\n",
            " 5   V5      284807 non-null  float64\n",
            " 6   V6      284807 non-null  float64\n",
            " 7   V7      284807 non-null  float64\n",
            " 8   V8      284807 non-null  float64\n",
            " 9   V9      284807 non-null  float64\n",
            " 10  V10     284807 non-null  float64\n",
            " 11  V11     284807 non-null  float64\n",
            " 12  V12     284807 non-null  float64\n",
            " 13  V13     284807 non-null  float64\n",
            " 14  V14     284807 non-null  float64\n",
            " 15  V15     284807 non-null  float64\n",
            " 16  V16     284807 non-null  float64\n",
            " 17  V17     284807 non-null  float64\n",
            " 18  V18     284807 non-null  float64\n",
            " 19  V19     284807 non-null  float64\n",
            " 20  V20     284807 non-null  float64\n",
            " 21  V21     284807 non-null  float64\n",
            " 22  V22     284807 non-null  float64\n",
            " 23  V23     284807 non-null  float64\n",
            " 24  V24     284807 non-null  float64\n",
            " 25  V25     284807 non-null  float64\n",
            " 26  V26     284807 non-null  float64\n",
            " 27  V27     284807 non-null  float64\n",
            " 28  V28     284807 non-null  float64\n",
            " 29  Amount  284807 non-null  float64\n",
            " 30  Class   284807 non-null  int64  \n",
            "dtypes: float64(30), int64(1)\n",
            "memory usage: 67.4 MB\n",
            "Analisando o dataset temos: 284807 linhas e 31 colunas\n"
          ]
        }
      ]
    },
    {
      "cell_type": "markdown",
      "source": [
        "O  conjunto de dados possui 284807 linha e 31 colunas, onde todas a linha possuem valores não nulos.\n",
        "\n",
        "Agora vamos plotar um gráfico de barras para vizualizar o balanceamento do *dataset*\n"
      ],
      "metadata": {
        "id": "cUWwrxAN0Czo"
      }
    },
    {
      "cell_type": "code",
      "source": [
        "print(df['Class'].value_counts())\n",
        "print(f\"Fraudes representam {(((df['Class']==1).sum())/df.shape[0]*100):.3f}% do dataset. \\n\")\n",
        "\n",
        "fig, ax = plt.subplots();\n",
        "\n",
        "sns.countplot('Class', data=df, ax=ax);\n",
        "ax.set_title('Distribuição das Classes');\n",
        "total = df['Class'].value_counts()\n",
        "\n",
        "#Adicionar valor na barra\n",
        "for i in range(2):\n",
        "  ax.text(i, i+10000, total[i], va='center', ha='center', fontweight='bold',)\n",
        "\n",
        "#remover borda lateral e superior\n",
        "def remove_spine(ax):\n",
        "  ax.spines['top'].set_visible(False)\n",
        "  ax.spines['right'].set_visible(False)\n",
        "\n",
        "remove_spine(ax)\n",
        "plt.tight_layout()\n",
        "plt.show()\n"
      ],
      "metadata": {
        "id": "ulYBCyzNR5YW",
        "colab": {
          "base_uri": "https://localhost:8080/",
          "height": 389
        },
        "outputId": "927aa5da-ed86-417e-85c2-a007bfe6f053"
      },
      "execution_count": 233,
      "outputs": [
        {
          "output_type": "stream",
          "name": "stdout",
          "text": [
            "0    284315\n",
            "1       492\n",
            "Name: Class, dtype: int64\n",
            "Fraudes representam 0.173% do dataset. \n",
            "\n"
          ]
        },
        {
          "output_type": "display_data",
          "data": {
            "text/plain": [
              "<Figure size 432x288 with 1 Axes>"
            ],
            "image/png": "[encoded data removed]"
          },
          "metadata": {
            "needs_background": "light"
          }
        }
      ]
    },
    {
      "cell_type": "markdown",
      "source": [
        "Existe um desequilíbrio de classes, o que significa que uma classe tem muito mais exemplos do que a outra. Se não balancearmos os dados, o modelo pode se inclinar para a classe majoritária e não ser capaz de classificar adequadamente a classe minoritária. \n",
        "Para ficar claro \"class = 0\" significa que a transação é normal, enquanto \"class = 1\" significa fraude.\n"
      ],
      "metadata": {
        "id": "B8IwYhSNatfF"
      }
    },
    {
      "cell_type": "markdown",
      "source": [
        "Abixo temos um gráficos de histograma para vizualiar fraudes e transações normais.\n",
        "Histograma é a representação gráfica em colunas ou em barras que demonstra uma distribuição de frequências. \n",
        "\n",
        "Os histogramas em si são plotados com base nas colunas \"Time\" e \"Class\" do dataframe "
      ],
      "metadata": {
        "id": "lLNhfb6O0cso"
      }
    },
    {
      "cell_type": "code",
      "source": [
        "fig, (ax1,ax2) = plt.subplots(nrows=2, ncols=1, figsize=(12,6));\n",
        "\n",
        "num_bins = 45\n",
        "# Plotar o primeiro gráfico com classe = 0 \n",
        "df['Time'][df['Class'] == 0].hist(ax=ax1,bins=num_bins,edgecolor=\"white\", linewidth=1)\n",
        "# Plotar o segundo gráfico com classe = 1\n",
        "df['Time'][df['Class'] == 1].hist(ax=ax2,bins=num_bins,edgecolor=\"white\", linewidth=1)\n",
        "\n",
        "# Definir titulo e elementos do gráfico 1\n",
        "ax1.set_title(\"Normal\")\n",
        "ax1.set_xlabel(\"Tempo (Segundos)\\n\")\n",
        "ax1.set_ylabel(\"Transações\")\n",
        "\n",
        "\n",
        "# Definir titulo e elementos do gráfico 2\n",
        "ax2.set_title(\"Fraude\")\n",
        "ax2.set_xlabel(\"Tempo (Segundos)\")\n",
        "ax2.set_ylabel(\"Transações\")\n",
        "\n",
        "\n",
        "#Remover bordas\n",
        "for i in [ax1, ax2]:\n",
        "  remove_spine(i)\n",
        "  i.grid(visible=None)\n",
        "\n",
        "  #Remover espaço inicial\n",
        "  i.set_xlim(0, (df['Time'][df['Class'] == 1].max()))\n",
        "  \n",
        "plt.tight_layout()\n",
        "plt.show()\n"
      ],
      "metadata": {
        "id": "ezRfyYvKUkSh",
        "colab": {
          "base_uri": "https://localhost:8080/",
          "height": 441
        },
        "outputId": "de67f1e9-5879-43ba-c189-8a04369d400a"
      },
      "execution_count": 232,
      "outputs": [
        {
          "output_type": "display_data",
          "data": {
            "text/plain": [
              "<Figure size 864x432 with 2 Axes>"
            ],
            "image/png": "[encoded data removed]"
          },
          "metadata": {
            "needs_background": "light"
          }
        }
      ]
    },
    {
      "cell_type": "markdown",
      "source": [
        "Abixo temos um gráfico de caixa para vizualiar fraudes e transações normais.\n",
        "O gráfico de caixa (também conhecido como box plot) é uma representação gráfica usada para resumir a distribuição de um conjunto de dados. Ele apresenta uma visão geral da dispersão dos dados, incluindo informações sobre a mediana, os quartis, o mínimo, o máximo e os valores atípicos.\n",
        "\n",
        "\n",
        "O gráfico de caixa é útil para comparar a distribuição de vários conjuntos de dados, bem como para identificar valores atípicos. "
      ],
      "metadata": {
        "id": "XaI5XrtK2W-c"
      }
    },
    {
      "cell_type": "code",
      "source": [
        "fig, ax = plt.subplots(figsize=(12,6))\n",
        "\n",
        "# Plot the first box plot using the first dataset\n",
        "ax.boxplot(df['Amount'][df['Class'] == 1], positions=[1])\n",
        "\n",
        "# Plot the second box plot using the second dataset\n",
        "ax.boxplot(df['Amount'][df['Class'] == 0], positions=[2])\n",
        "\n",
        "ax.set_title(\"Boxplot Fraude e Normal \")\n",
        "ax.set_xlabel(\"Class\")\n",
        "ax.set_ylabel(\"Amount\")\n",
        "ax.spines['top'].set_visible(False)\n",
        "ax.spines['right'].set_visible(False)\n",
        "ax.spines['bottom'].set_visible(False)\n",
        "ax.set_xticks([])   # remove y-tick labels for the first subplot\n",
        "ax.set_ylim(0, 1500)\n",
        "plt.xticks([2, 1], ['Normal', 'Fraude'])\n",
        "\n",
        "\n",
        "plt.subplots_adjust(wspace=100, hspace=-50)\n",
        "\n",
        "plt.tight_layout()\n",
        "plt.show()"
      ],
      "metadata": {
        "id": "8rG5S6qWeMvE",
        "colab": {
          "base_uri": "https://localhost:8080/",
          "height": 441
        },
        "outputId": "d1461958-7871-412c-a54c-d69cb60df1a8"
      },
      "execution_count": 228,
      "outputs": [
        {
          "output_type": "display_data",
          "data": {
            "text/plain": [
              "<Figure size 864x432 with 1 Axes>"
            ],
            "image/png": "[encoded data removed]"
          },
          "metadata": {
            "needs_background": "light"
          }
        }
      ]
    },
    {
      "cell_type": "markdown",
      "source": [
        "A função \"corr()\" é usada para calcular a correlação entre variáveis em uma base de dados. \n",
        "A correlação é uma medida estatística que descreve a força e a direção da relação linear entre duas variáveis.\n",
        "\n",
        "Um heatmap é um tipo de gráfico de visualização de dados que apresenta informações em forma de matriz, onde as células são coloridas com base em seus valores. Heatmaps são usados para representar dados multivariados, especialmente para mostrar a correlação entre variáveis. "
      ],
      "metadata": {
        "id": "VJ_UgrGb29ST"
      }
    },
    {
      "cell_type": "code",
      "source": [
        "corr = df.corr()\n",
        "corr= corr.round(2)\n",
        "\n",
        "# Create a figure and an Axes object\n",
        "fig, ax = plt.subplots(figsize=(20, 10))\n",
        "\n",
        "# Plot the heatmap\n",
        "sns.heatmap(corr, cmap='RdYlGn', annot=True, ax=ax,)\n",
        "\n",
        "# Set the title\n",
        "ax.set_title(\"Correlation Matrix\")\n",
        "\n",
        "# Show the plot\n",
        "plt.tight_layout()\n",
        "plt.show()"
      ],
      "metadata": {
        "id": "Q4YJSmAQ0lza",
        "colab": {
          "base_uri": "https://localhost:8080/",
          "height": 729
        },
        "outputId": "1a85ff55-a747-4b32-ac1a-5f820d8a48cc"
      },
      "execution_count": 227,
      "outputs": [
        {
          "output_type": "display_data",
          "data": {
            "text/plain": [
              "<Figure size 1440x720 with 2 Axes>"
            ],
            "image/png": "[encoded data removed]"
          },
          "metadata": {
            "needs_background": "light"
          }
        }
      ]
    },
    {
      "cell_type": "markdown",
      "metadata": {
        "id": "ULe7z0jZt0EH"
      },
      "source": [
        "## Preparação dos Dados\n",
        "\n",
        "* Normalizar os dados que ainda não haviam sido pré-processados (`Time` e `Amount`)\n",
        "\n",
        "Faremos uma copia os dados do DataFrame original (df) para um novo DataFrame (df_clean). Em seguida, aplicaremos a técnica de normalização de padronização aos dados de \"Amount\" e \"Time\". Isso é feito usando a classe StandardScaler do pacote scikit-learn.\n",
        "\n",
        "A técnica de padronização consiste em subtrair a média dos dados e dividir pelo desvio padrão. O resultado é armazenado nas novas colunas \"std_amount\" e \"std_time\".\n",
        "\n",
        "Finalmente, as colunas \"Time\" e \"Amount\" são removidas do DataFrame df_clean. O comando head() no final do código é usado para ver as primeiras entradas do DataFrame normalizado.\n"
      ]
    },
    {
      "cell_type": "code",
      "metadata": {
        "id": "IqfjG_SUSTi-",
        "colab": {
          "base_uri": "https://localhost:8080/",
          "height": 235
        },
        "outputId": "117dfc81-743e-4a7b-8d81-8dc6b320e38b"
      },
      "source": [
        "#Copia\n",
        "df_clean = df.copy()\n",
        "\n",
        "#Padronização\n",
        "std_scaler = StandardScaler()\n",
        "df_clean['std_amount'] = std_scaler.fit_transform(df_clean['Amount'].values.reshape(-1, 1))\n",
        "df_clean['std_time'] = std_scaler.fit_transform(df_clean['Time'].values.reshape(-1, 1))\n",
        "\n",
        "#remoção time e amount antigos\n",
        "df_clean.drop(['Time', 'Amount'], axis=1, inplace=True)\n",
        "\n",
        "# ver as primeiras entradas\n",
        "df_clean.head()"
      ],
      "execution_count": 224,
      "outputs": [
        {
          "output_type": "execute_result",
          "data": {
            "text/plain": [
              "         V1        V2        V3        V4        V5        V6        V7  \\\n",
              "0 -1.359807 -0.072781  2.536347  1.378155 -0.338321  0.462388  0.239599   \n",
              "1  1.191857  0.266151  0.166480  0.448154  0.060018 -0.082361 -0.078803   \n",
              "2 -1.358354 -1.340163  1.773209  0.379780 -0.503198  1.800499  0.791461   \n",
              "3 -0.966272 -0.185226  1.792993 -0.863291 -0.010309  1.247203  0.237609   \n",
              "4 -1.158233  0.877737  1.548718  0.403034 -0.407193  0.095921  0.592941   \n",
              "\n",
              "         V8        V9       V10  ...       V22       V23       V24       V25  \\\n",
              "0  0.098698  0.363787  0.090794  ...  0.277838 -0.110474  0.066928  0.128539   \n",
              "1  0.085102 -0.255425 -0.166974  ... -0.638672  0.101288 -0.339846  0.167170   \n",
              "2  0.247676 -1.514654  0.207643  ...  0.771679  0.909412 -0.689281 -0.327642   \n",
              "3  0.377436 -1.387024 -0.054952  ...  0.005274 -0.190321 -1.175575  0.647376   \n",
              "4 -0.270533  0.817739  0.753074  ...  0.798278 -0.137458  0.141267 -0.206010   \n",
              "\n",
              "        V26       V27       V28  Class  std_amount  std_time  \n",
              "0 -0.189115  0.133558 -0.021053      0    0.244964 -1.996583  \n",
              "1  0.125895 -0.008983  0.014724      0   -0.342475 -1.996583  \n",
              "2 -0.139097 -0.055353 -0.059752      0    1.160686 -1.996562  \n",
              "3 -0.221929  0.062723  0.061458      0    0.140534 -1.996562  \n",
              "4  0.502292  0.219422  0.215153      0   -0.073403 -1.996541  \n",
              "\n",
              "[5 rows x 31 columns]"
            ],
            "text/html": [
              "\n",
              "  <div id=\"df-d10596e8-ed94-4eb5-9ee7-e8dc34bf1961\">\n",
              "    <div class=\"colab-df-container\">\n",
              "      <div>\n",
              "<style scoped>\n",
              "    .dataframe tbody tr th:only-of-type {\n",
              "        vertical-align: middle;\n",
              "    }\n",
              "\n",
              "    .dataframe tbody tr th {\n",
              "        vertical-align: top;\n",
              "    }\n",
              "\n",
              "    .dataframe thead th {\n",
              "        text-align: right;\n",
              "    }\n",
              "</style>\n",
              "<table border=\"1\" class=\"dataframe\">\n",
              "  <thead>\n",
              "    <tr style=\"text-align: right;\">\n",
              "      <th></th>\n",
              "      <th>V1</th>\n",
              "      <th>V2</th>\n",
              "      <th>V3</th>\n",
              "      <th>V4</th>\n",
              "      <th>V5</th>\n",
              "      <th>V6</th>\n",
              "      <th>V7</th>\n",
              "      <th>V8</th>\n",
              "      <th>V9</th>\n",
              "      <th>V10</th>\n",
              "      <th>...</th>\n",
              "      <th>V22</th>\n",
              "      <th>V23</th>\n",
              "      <th>V24</th>\n",
              "      <th>V25</th>\n",
              "      <th>V26</th>\n",
              "      <th>V27</th>\n",
              "      <th>V28</th>\n",
              "      <th>Class</th>\n",
              "      <th>std_amount</th>\n",
              "      <th>std_time</th>\n",
              "    </tr>\n",
              "  </thead>\n",
              "  <tbody>\n",
              "    <tr>\n",
              "      <th>0</th>\n",
              "      <td>-1.359807</td>\n",
              "      <td>-0.072781</td>\n",
              "      <td>2.536347</td>\n",
              "      <td>1.378155</td>\n",
              "      <td>-0.338321</td>\n",
              "      <td>0.462388</td>\n",
              "      <td>0.239599</td>\n",
              "      <td>0.098698</td>\n",
              "      <td>0.363787</td>\n",
              "      <td>0.090794</td>\n",
              "      <td>...</td>\n",
              "      <td>0.277838</td>\n",
              "      <td>-0.110474</td>\n",
              "      <td>0.066928</td>\n",
              "      <td>0.128539</td>\n",
              "      <td>-0.189115</td>\n",
              "      <td>0.133558</td>\n",
              "      <td>-0.021053</td>\n",
              "      <td>0</td>\n",
              "      <td>0.244964</td>\n",
              "      <td>-1.996583</td>\n",
              "    </tr>\n",
              "    <tr>\n",
              "      <th>1</th>\n",
              "      <td>1.191857</td>\n",
              "      <td>0.266151</td>\n",
              "      <td>0.166480</td>\n",
              "      <td>0.448154</td>\n",
              "      <td>0.060018</td>\n",
              "      <td>-0.082361</td>\n",
              "      <td>-0.078803</td>\n",
              "      <td>0.085102</td>\n",
              "      <td>-0.255425</td>\n",
              "      <td>-0.166974</td>\n",
              "      <td>...</td>\n",
              "      <td>-0.638672</td>\n",
              "      <td>0.101288</td>\n",
              "      <td>-0.339846</td>\n",
              "      <td>0.167170</td>\n",
              "      <td>0.125895</td>\n",
              "      <td>-0.008983</td>\n",
              "      <td>0.014724</td>\n",
              "      <td>0</td>\n",
              "      <td>-0.342475</td>\n",
              "      <td>-1.996583</td>\n",
              "    </tr>\n",
              "    <tr>\n",
              "      <th>2</th>\n",
              "      <td>-1.358354</td>\n",
              "      <td>-1.340163</td>\n",
              "      <td>1.773209</td>\n",
              "      <td>0.379780</td>\n",
              "      <td>-0.503198</td>\n",
              "      <td>1.800499</td>\n",
              "      <td>0.791461</td>\n",
              "      <td>0.247676</td>\n",
              "      <td>-1.514654</td>\n",
              "      <td>0.207643</td>\n",
              "      <td>...</td>\n",
              "      <td>0.771679</td>\n",
              "      <td>0.909412</td>\n",
              "      <td>-0.689281</td>\n",
              "      <td>-0.327642</td>\n",
              "      <td>-0.139097</td>\n",
              "      <td>-0.055353</td>\n",
              "      <td>-0.059752</td>\n",
              "      <td>0</td>\n",
              "      <td>1.160686</td>\n",
              "      <td>-1.996562</td>\n",
              "    </tr>\n",
              "    <tr>\n",
              "      <th>3</th>\n",
              "      <td>-0.966272</td>\n",
              "      <td>-0.185226</td>\n",
              "      <td>1.792993</td>\n",
              "      <td>-0.863291</td>\n",
              "      <td>-0.010309</td>\n",
              "      <td>1.247203</td>\n",
              "      <td>0.237609</td>\n",
              "      <td>0.377436</td>\n",
              "      <td>-1.387024</td>\n",
              "      <td>-0.054952</td>\n",
              "      <td>...</td>\n",
              "      <td>0.005274</td>\n",
              "      <td>-0.190321</td>\n",
              "      <td>-1.175575</td>\n",
              "      <td>0.647376</td>\n",
              "      <td>-0.221929</td>\n",
              "      <td>0.062723</td>\n",
              "      <td>0.061458</td>\n",
              "      <td>0</td>\n",
              "      <td>0.140534</td>\n",
              "      <td>-1.996562</td>\n",
              "    </tr>\n",
              "    <tr>\n",
              "      <th>4</th>\n",
              "      <td>-1.158233</td>\n",
              "      <td>0.877737</td>\n",
              "      <td>1.548718</td>\n",
              "      <td>0.403034</td>\n",
              "      <td>-0.407193</td>\n",
              "      <td>0.095921</td>\n",
              "      <td>0.592941</td>\n",
              "      <td>-0.270533</td>\n",
              "      <td>0.817739</td>\n",
              "      <td>0.753074</td>\n",
              "      <td>...</td>\n",
              "      <td>0.798278</td>\n",
              "      <td>-0.137458</td>\n",
              "      <td>0.141267</td>\n",
              "      <td>-0.206010</td>\n",
              "      <td>0.502292</td>\n",
              "      <td>0.219422</td>\n",
              "      <td>0.215153</td>\n",
              "      <td>0</td>\n",
              "      <td>-0.073403</td>\n",
              "      <td>-1.996541</td>\n",
              "    </tr>\n",
              "  </tbody>\n",
              "</table>\n",
              "<p>5 rows × 31 columns</p>\n",
              "</div>\n",
              "      <button class=\"colab-df-convert\" onclick=\"convertToInteractive('df-d10596e8-ed94-4eb5-9ee7-e8dc34bf1961')\"\n",
              "              title=\"Convert this dataframe to an interactive table.\"\n",
              "              style=\"display:none;\">\n",
              "        \n",
              "  <svg xmlns=\"http://www.w3.org/2000/svg\" height=\"24px\"viewBox=\"0 0 24 24\"\n",
              "       width=\"24px\">\n",
              "    <path d=\"M0 0h24v24H0V0z\" fill=\"none\"/>\n",
              "    <path d=\"M18.56 5.44l.94 2.06.94-2.06 2.06-.94-2.06-.94-.94-2.06-.94 2.06-2.06.94zm-11 1L8.5 8.5l.94-2.06 2.06-.94-2.06-.94L8.5 2.5l-.94 2.06-2.06.94zm10 10l.94 2.06.94-2.06 2.06-.94-2.06-.94-.94-2.06-.94 2.06-2.06.94z\"/><path d=\"M17.41 7.96l-1.37-1.37c-.4-.4-.92-.59-1.43-.59-.52 0-1.04.2-1.43.59L10.3 9.45l-7.72 7.72c-.78.78-.78 2.05 0 2.83L4 21.41c.39.39.9.59 1.41.59.51 0 1.02-.2 1.41-.59l7.78-7.78 2.81-2.81c.8-.78.8-2.07 0-2.86zM5.41 20L4 18.59l7.72-7.72 1.47 1.35L5.41 20z\"/>\n",
              "  </svg>\n",
              "      </button>\n",
              "      \n",
              "  <style>\n",
              "    .colab-df-container {\n",
              "      display:flex;\n",
              "      flex-wrap:wrap;\n",
              "      gap: 12px;\n",
              "    }\n",
              "\n",
              "    .colab-df-convert {\n",
              "      background-color: #E8F0FE;\n",
              "      border: none;\n",
              "      border-radius: 50%;\n",
              "      cursor: pointer;\n",
              "      display: none;\n",
              "      fill: #1967D2;\n",
              "      height: 32px;\n",
              "      padding: 0 0 0 0;\n",
              "      width: 32px;\n",
              "    }\n",
              "\n",
              "    .colab-df-convert:hover {\n",
              "      background-color: #E2EBFA;\n",
              "      box-shadow: 0px 1px 2px rgba(60, 64, 67, 0.3), 0px 1px 3px 1px rgba(60, 64, 67, 0.15);\n",
              "      fill: #174EA6;\n",
              "    }\n",
              "\n",
              "    [theme=dark] .colab-df-convert {\n",
              "      background-color: #3B4455;\n",
              "      fill: #D2E3FC;\n",
              "    }\n",
              "\n",
              "    [theme=dark] .colab-df-convert:hover {\n",
              "      background-color: #434B5C;\n",
              "      box-shadow: 0px 1px 3px 1px rgba(0, 0, 0, 0.15);\n",
              "      filter: drop-shadow(0px 1px 2px rgba(0, 0, 0, 0.3));\n",
              "      fill: #FFFFFF;\n",
              "    }\n",
              "  </style>\n",
              "\n",
              "      <script>\n",
              "        const buttonEl =\n",
              "          document.querySelector('#df-d10596e8-ed94-4eb5-9ee7-e8dc34bf1961 button.colab-df-convert');\n",
              "        buttonEl.style.display =\n",
              "          google.colab.kernel.accessAllowed ? 'block' : 'none';\n",
              "\n",
              "        async function convertToInteractive(key) {\n",
              "          const element = document.querySelector('#df-d10596e8-ed94-4eb5-9ee7-e8dc34bf1961');\n",
              "          const dataTable =\n",
              "            await google.colab.kernel.invokeFunction('convertToInteractive',\n",
              "                                                     [key], {});\n",
              "          if (!dataTable) return;\n",
              "\n",
              "          const docLinkHtml = 'Like what you see? Visit the ' +\n",
              "            '<a target=\"_blank\" href=https://colab.research.google.com/notebooks/data_table.ipynb>data table notebook</a>'\n",
              "            + ' to learn more about interactive tables.';\n",
              "          element.innerHTML = '';\n",
              "          dataTable['output_type'] = 'display_data';\n",
              "          await google.colab.output.renderOutput(dataTable, element);\n",
              "          const docLink = document.createElement('div');\n",
              "          docLink.innerHTML = docLinkHtml;\n",
              "          element.appendChild(docLink);\n",
              "        }\n",
              "      </script>\n",
              "    </div>\n",
              "  </div>\n",
              "  "
            ]
          },
          "metadata": {},
          "execution_count": 224
        }
      ]
    },
    {
      "cell_type": "markdown",
      "source": [
        "Com os valores padronizados podemos dividir o conjunto de dados entre treino e validação usando a função train_test_split. A função divide os dados em dois conjuntos, um usado para treinamento e outro usado para validação. \n",
        "\n",
        "Estamos usando as colunas sem a coluna 'Class' como dados de treinamento (X_train) e a coluna 'Class' como rótulos de treinamento (y_train)."
      ],
      "metadata": {
        "id": "NDadTmeN50bP"
      }
    },
    {
      "cell_type": "code",
      "source": [
        "# separar variáveis entre X e y com as colunas escolhidas y vai ser ser o alvo \n",
        "X = df_clean.drop('Class', axis=1)\n",
        "y = df['Class']\n",
        "\n",
        "# dividir o dataset entre treino e teste\n",
        "X_train, X_test, y_train, y_test = train_test_split(X, y, random_state=1,stratify=y, shuffle=True)\n",
        "\n",
        "print('X Train : ', X_train.shape )\n",
        "print('Test : ', X_test.shape)\n",
        "print('Y Train : ', y_train.shape)\n",
        "print('y Test : ',y_test.shape)\n",
        "print('Fraude:', sum(y==1))\n",
        "print('Normal:', sum(y==0))"
      ],
      "metadata": {
        "id": "0Q1LwRw8vs2U",
        "colab": {
          "base_uri": "https://localhost:8080/"
        },
        "outputId": "b340e0c7-968a-470b-ab1d-8c535dabc341"
      },
      "execution_count": 35,
      "outputs": [
        {
          "output_type": "stream",
          "name": "stdout",
          "text": [
            "X Train :  (213605, 30)\n",
            "Test :  (71202, 30)\n",
            "Y Train :  (213605,)\n",
            "y Test :  (71202,)\n",
            "Fraude: 492\n",
            "Normal: 284315\n"
          ]
        }
      ]
    },
    {
      "cell_type": "markdown",
      "source": [
        "Vamos normalizar as variáveis de entrada com StandardScaler. Isso é feito para que todas as variáveis tenham a mesma escala e, assim, o modelo não seja afetado desproporcionalmente por variáveis com escalas diferentes.\n",
        "\n",
        "Em seguida vamos balancear os dados utilizando o RandomUnderSampler, que é usado para diminuir a quantidade de exemplos da classe majoritária. Para  garantir que o modelo não seja afetado pelo desequilíbrio de classes. \n",
        "\n",
        "E tambem dividiremos os dados balanceados em conjuntos de treinamento e teste."
      ],
      "metadata": {
        "id": "RexaYsWlmwT3"
      }
    },
    {
      "cell_type": "code",
      "source": [
        "# Normalizar\n",
        "scaler = StandardScaler()\n",
        "X = scaler.fit_transform(X)\n",
        "\n",
        "# Balancear\n",
        "ros = RandomUnderSampler()\n",
        "X , y = ros.fit_resample(X,y)\n",
        "\n",
        "# dividir o dataset entre treino e teste\n",
        "X_train, X_test, y_train, y_test = train_test_split(X, y, random_state=1,stratify=y, shuffle=True)\n",
        "print('X Train : ', X_train.shape)\n",
        "print('y Train : ', y_train.shape)\n",
        "print('X Test : ', X_test.shape)\n",
        "print('y Test : ',y_test.shape)\n",
        "print('Fraude:', sum(y==1))\n",
        "print('Normal:', sum(y==0))"
      ],
      "metadata": {
        "id": "cgsx_O-Yb_ao",
        "colab": {
          "base_uri": "https://localhost:8080/"
        },
        "outputId": "e00a82c3-b93b-4a8c-c1a3-b6e0d7133fa3"
      },
      "execution_count": 36,
      "outputs": [
        {
          "output_type": "stream",
          "name": "stdout",
          "text": [
            "X Train :  (738, 30)\n",
            "y Train :  (738,)\n",
            "X Test :  (246, 30)\n",
            "y Test :  (246,)\n",
            "Fraude: 492\n",
            "Normal: 492\n"
          ]
        }
      ]
    },
    {
      "cell_type": "markdown",
      "source": [
        "Agora temos a mesma quantidade de valores para transações normais e fraudes, sendo ambos 492. Podemos então seguir para o treino e teste de modelos de aprendizado de máquina."
      ],
      "metadata": {
        "id": "fJn8zf0y8Igf"
      }
    },
    {
      "cell_type": "markdown",
      "source": [
        "##Modelo k-nearest neighbors\n",
        "\n",
        "KNN (k-nearest neighbors) é um algoritmo de aprendizado de máquina supervisionado que pode ser usado para classificação ou regressão. Ele funciona armazenando todos os dados de treinamento e, quando um novo dado é fornecido, ele encontra os k vizinhos mais próximos a esse novo dado e usa a classe predominante entre esses vizinhos como a previsão para esse novo dado. Ele é amplamente utilizado devido à sua simplicidade e facilidade de implementação.\n",
        "\n",
        "Primeiramente vou utilizar um loop for para descobrir o número de vizinhos a serem considerados no algoritmo que apresente o melhor desempenho, baseado no menor falso positivo da matriz de confusão, pois por se tratar de um projeto de fraude de cartão, queremos detectar o máximo possivel de fraudes.\n",
        "\n",
        "A matrix de confusão é uma ferramenta importante para avaliar o desempenho de um modelo de classificação. Ele fornece uma visão geral das previsões corretas e erradas feitas pelo modelo\n",
        "\n",
        "<p align=left>\n",
        "<img src=\"https://miro.medium.com/max/1400/1*T8Pnw0kiVbrPGnqnB2I_Zw.jpeg\" width=\"60%\"></p>"
      ],
      "metadata": {
        "id": "IZoLPDHTTgom"
      }
    },
    {
      "cell_type": "code",
      "source": [
        "#Getting the best parammer\n",
        "acc1 = 100\n",
        "for i in range(1,50):\n",
        "    knn_model = KNeighborsClassifier(n_neighbors=i)\n",
        "    knn_model.fit(X_train, y_train)\n",
        "    y_pred_knn = knn_model.predict(X_test)\n",
        "    matrix_confi = confusion_matrix(y_test, y_pred_knn)  \n",
        "    false_negative = int(matrix_confi[1][0])\n",
        "    if false_negative < acc1:\n",
        "        acc1 = false_negative\n",
        "        n_nei = i\n",
        "print('n_neighbors:', n_nei)\n"
      ],
      "metadata": {
        "id": "i3nmJNweTkAl",
        "colab": {
          "base_uri": "https://localhost:8080/"
        },
        "outputId": "19c49047-2d3b-4aac-95b2-4b1a5bd746df"
      },
      "execution_count": 37,
      "outputs": [
        {
          "output_type": "stream",
          "name": "stdout",
          "text": [
            "n_neighbors: 1\n"
          ]
        }
      ]
    },
    {
      "cell_type": "markdown",
      "source": [
        "\n",
        "O valor de k=1 foi considerado o valor ideal para k, pois apresentou o menor valor de falso negativo.\n",
        " \n",
        "Agora iremos treinar nosso modelo e analisar o desempenho."
      ],
      "metadata": {
        "id": "KXzFyBtBgJSF"
      }
    },
    {
      "cell_type": "code",
      "source": [
        "#Criar o modelo k-nearest neighbors e treinar com dados de treino\n",
        "knn_model = KNeighborsClassifier(n_neighbors =n_nei)\n",
        "knn_model.fit(X_train, y_train)\n",
        "\n",
        "#validar com dados de teste\n",
        "y_pred_knn = knn_model.predict(X_test)"
      ],
      "metadata": {
        "id": "hvcW_dR-TpC1"
      },
      "execution_count": 38,
      "outputs": []
    },
    {
      "cell_type": "markdown",
      "source": [
        "\n",
        "Com o modelo ja treinado vamos avaliar a precisão do modelo usando dados de validação e calcular métricas como acurácia, F1 score, precisão e recall entre outras.\n"
      ],
      "metadata": {
        "id": "NCqYigRrrYw8"
      }
    },
    {
      "cell_type": "code",
      "source": [
        "#Avaliação do modelo knn com os dados de teste comparados com os dados reais\n",
        "knn_mae = mean_absolute_error(y_test, y_pred_knn)\n",
        "knn_mse = mean_squared_error(y_test, y_pred_knn)\n",
        "knn_rmse = np.sqrt(knn_mse)\n",
        "knn_accuracy = knn_model.score(X_test, y_test)\n",
        "knn_confusion_matrix = confusion_matrix(y_test, y_pred_knn)\n",
        "\n",
        "print(\"Accuracy: \", knn_accuracy)\n",
        "print(\"MAE:\", knn_mae)\n",
        "print(\"RMSE:\", knn_rmse)\n",
        "print(classification_report(y_test, y_pred_knn))\n",
        "print(\"Confusion Matrix:\", knn_confusion_matrix)"
      ],
      "metadata": {
        "id": "JeYbnjtiTqwE",
        "colab": {
          "base_uri": "https://localhost:8080/"
        },
        "outputId": "aa5e3bfd-bc14-45af-94a9-ba966ac2b6c5"
      },
      "execution_count": 39,
      "outputs": [
        {
          "output_type": "stream",
          "name": "stdout",
          "text": [
            "Accuracy:  0.9227642276422764\n",
            "MAE: 0.07723577235772358\n",
            "RMSE: 0.27791324609979207\n",
            "              precision    recall  f1-score   support\n",
            "\n",
            "           0       0.90      0.95      0.92       123\n",
            "           1       0.95      0.89      0.92       123\n",
            "\n",
            "    accuracy                           0.92       246\n",
            "   macro avg       0.92      0.92      0.92       246\n",
            "weighted avg       0.92      0.92      0.92       246\n",
            "\n",
            "Confusion Matrix: [[117   6]\n",
            " [ 13 110]]\n"
          ]
        }
      ]
    },
    {
      "cell_type": "markdown",
      "source": [
        "Acurácia: 0.92 é a proporção de previsões corretas feitas pelo modelo em relação ao total de previsões.\n",
        "\n",
        "MAE (mean absolute error): 0.07 é a média do erro absoluto. Este é um indicador da diferença entre as previsões do modelo e os valores reais. Quanto menor o MAE, melhor é o desempenho do modelo.\n",
        "\n",
        "RMSE (root mean squared error): 0.27 é a raiz quadrada da média dos erros ao quadrado. É uma medida mais intensa da diferença entre as previsões do modelo e os valores reais. Quanto menor o RMSE, melhor é o desempenho do modelo.\n",
        "\n",
        "A precisão, recall e f1-score são métricas de desempenho utilizadas para avaliar modelos de classificação. A precisão indica a porcentagem de previsões corretas do modelo, o recall indica a porcentagem de instâncias positivas que foram corretamente identificadas pelo modelo e o f1-score é a média harmônica entre precisão e recall.\n",
        "\n",
        "Matriz de confusão: A matriz de confusão apresentada mostra o número de previsões corretas (117 e 110) e previsões erradas (6 e 13) para cada classe. A matriz de confusão pode ser usada para avaliar o desempenho do modelo em relação a cada classe.\n",
        "\n"
      ],
      "metadata": {
        "id": "Ot2ri3IQh3ax"
      }
    },
    {
      "cell_type": "markdown",
      "source": [
        "## Naive Bayes\n",
        "\n",
        "\n",
        "Naive Bayes é um algoritmo de classificação baseado na Teorema de Bayes. Ele é chamado de \"naive\" porque assume que todas as variáveis independentes (características) são independentes entre si, isso significa que a presença ou ausência de uma característica não afeta a presença ou ausência de outra característica. O que geralmente não é verdade, ainda assim pode ser eficaz em muitos casos. \n",
        "\n",
        "<p align=left>\n",
        "<img src=\"https://miro.medium.com/max/1101/1*0a2wA8H1nbyEXILf0WBcHA.png\" width=\"60%\"></p>"
      ],
      "metadata": {
        "id": "PkVpdGstTryV"
      }
    },
    {
      "cell_type": "code",
      "source": [
        "#Criar o modelo Naive Bayes e treinar com dados de treino\n",
        "nb_model = GaussianNB()\n",
        "nb_model = nb_model.fit(X_train, y_train)\n",
        "\n",
        "#validar com dados de teste\n",
        "y_pred_nb = nb_model.predict(X_test)"
      ],
      "metadata": {
        "id": "MTDT6JoETwSl"
      },
      "execution_count": 40,
      "outputs": []
    },
    {
      "cell_type": "markdown",
      "source": [
        "Agora vamos a avaliar o modelo de Naive Bayes\n"
      ],
      "metadata": {
        "id": "bNYqczh9dLnQ"
      }
    },
    {
      "cell_type": "code",
      "source": [
        "#Avaliação do modelo Naive Bayes com os dados de teste comparados com os dados reais\n",
        "nb_mae = mean_absolute_error(y_test, y_pred_nb)\n",
        "nb_mse = mean_squared_error(y_test, y_pred_nb)\n",
        "nb_rmse = np.sqrt(nb_mse)\n",
        "nb_accuracy = accuracy_score(y_test, y_pred_nb)\n",
        "nb_confusion_matrix = confusion_matrix(y_test, y_pred_nb)\n",
        "print(\"MAE:\", nb_mae)\n",
        "print(\"RMSE:\", nb_rmse)\n",
        "print(\"Accuracy:\", accuracy_score(y_test, y_pred_nb))\n",
        "print(classification_report(y_test, y_pred_nb))\n",
        "print(\"Confusion Matrix:\", nb_confusion_matrix)"
      ],
      "metadata": {
        "id": "LLRfyAOgTyLU",
        "colab": {
          "base_uri": "https://localhost:8080/"
        },
        "outputId": "a09c0c63-dce0-49dd-b724-37e17a8689e4"
      },
      "execution_count": 103,
      "outputs": [
        {
          "output_type": "stream",
          "name": "stdout",
          "text": [
            "MAE: 0.08536585365853659\n",
            "RMSE: 0.2921743548953888\n",
            "Accuracy: 0.9146341463414634\n",
            "              precision    recall  f1-score   support\n",
            "\n",
            "           0       0.88      0.96      0.92       123\n",
            "           1       0.96      0.87      0.91       123\n",
            "\n",
            "    accuracy                           0.91       246\n",
            "   macro avg       0.92      0.91      0.91       246\n",
            "weighted avg       0.92      0.91      0.91       246\n",
            "\n",
            "Confusion Matrix: [[118   5]\n",
            " [ 16 107]]\n"
          ]
        }
      ]
    },
    {
      "cell_type": "markdown",
      "source": [
        "Acurácia: 0.91 \n",
        "\n",
        "MAE: 0.085\n",
        "\n",
        "RMSE: 0.29 \n",
        "\n",
        "Matriz de confusão: previsões corretas (118 e 107) e previsões erradas (5 e 16) \n",
        "\n",
        "Desempenho do modelo foi um pouco inferior quando comparado ao KNN."
      ],
      "metadata": {
        "id": "5bQv7JLRkpFz"
      }
    },
    {
      "cell_type": "markdown",
      "source": [
        "##Logistic Regretion\n",
        "\n",
        "\n",
        "A Regressão Logística é um tipo de modelo de classificação que é usado para prever a probabilidade de uma amostra pertencer a uma determinada classe. Ele se baseia na teoria de probabilidade e utiliza a função logística para modelar a relação entre a variável dependente e as variáveis ​​independentes.\n",
        "O objetivo é encontrar os melhores coeficientes (parâmetros) do modelo para prever a classe de uma amostra desconhecida com base nas suas características.\n",
        "\n",
        "<p align=left>\n",
        "<img src=\"https://pimages.toolbox.com/wp-content/uploads/2022/04/11040522/46-4.png\" width=\"60%\"></p>"
      ],
      "metadata": {
        "id": "H9k88cBCT0yM"
      }
    },
    {
      "cell_type": "code",
      "source": [
        "#Criar o modelo de Logistic Regretion e treinar com dados de treino\n",
        "regre_model = LogisticRegression(random_state=1)\n",
        "regre_model.fit(X_train, y_train)\n",
        "\n",
        "#validar com dados de teste\n",
        "y_pred_regre = regre_model.predict(X_test)"
      ],
      "metadata": {
        "id": "NaHc5y8v_FZk"
      },
      "execution_count": 42,
      "outputs": []
    },
    {
      "cell_type": "markdown",
      "source": [
        "Agora vamos a avaliar o modelo de Regressão Linear\n"
      ],
      "metadata": {
        "id": "Wgx7QZaLdXEv"
      }
    },
    {
      "cell_type": "code",
      "source": [
        "#Avaliação do modelo Logistic Regretion com os dados de teste comparados com os dados reais\n",
        "regre_mae = mean_absolute_error(y_test, y_pred_regre)\n",
        "regre_mse = mean_squared_error(y_test, y_pred_regre)\n",
        "regre_rmse = np.sqrt(regre_mse)\n",
        "regre_accuracy = accuracy_score(y_test, y_pred_regre)\n",
        "regre_confusion_matrix = confusion_matrix(y_test, y_pred_regre)\n",
        "print(\"MAE:\", regre_mae)\n",
        "print(\"RMSE:\", regre_rmse)\n",
        "print(\"Accuracy:\", accuracy_score(y_test, y_pred_regre))\n",
        "print(classification_report(y_test, y_pred_regre))\n",
        "print(\"Confusion Matrix:\", regre_confusion_matrix)"
      ],
      "metadata": {
        "id": "jv3p65DLl9P5",
        "colab": {
          "base_uri": "https://localhost:8080/"
        },
        "outputId": "cfa77b09-2f74-405e-db44-90da7e82dad8"
      },
      "execution_count": 107,
      "outputs": [
        {
          "output_type": "stream",
          "name": "stdout",
          "text": [
            "MAE: 0.056910569105691054\n",
            "RMSE: 0.23855936180684895\n",
            "Accuracy: 0.943089430894309\n",
            "              precision    recall  f1-score   support\n",
            "\n",
            "           0       0.93      0.96      0.94       123\n",
            "           1       0.96      0.93      0.94       123\n",
            "\n",
            "    accuracy                           0.94       246\n",
            "   macro avg       0.94      0.94      0.94       246\n",
            "weighted avg       0.94      0.94      0.94       246\n",
            "\n",
            "Confusion Matrix: [[118   5]\n",
            " [  9 114]]\n"
          ]
        }
      ]
    },
    {
      "cell_type": "markdown",
      "source": [
        "Acurácia: 0.94 \n",
        "\n",
        "MAE: 0.056\n",
        "\n",
        "RMSE: 0.23\n",
        "\n",
        "Matriz de confusão: previsões corretas (118 e 114) e previsões erradas (5 e 9) \n",
        "\n",
        "Em geral, estes resultados indicam que o modelo tem desempenho muito bom, sendo os resultados desse modelo superiores aos dois modelos treinandos anteriormente."
      ],
      "metadata": {
        "id": "ftUZILz7uRTI"
      }
    },
    {
      "cell_type": "markdown",
      "source": [
        "## Decision Tree\n",
        "\n",
        "\n",
        "\n",
        "A Árvore de Decisão é um algoritmo de aprendizado de máquina supervisionado que se baseia em um modelo de árvore para fazer previsões. Ele funciona criando ramificações na árvore para representar as decisões que devem ser tomadas ao longo do caminho até a previsão final. As folhas da árvore representam as previsões finais, que podem ser classes ou valores contínuos.\n",
        "<p align=left>\n",
        "<img src=\"https://repository-images.githubusercontent.com/186166778/48227b00-8dbf-11e9-8d62-e0d54cae1431\" width=\"60%\"></p>\n"
      ],
      "metadata": {
        "id": "d8l8vKOml89Y"
      }
    },
    {
      "cell_type": "code",
      "source": [
        "#Criar o modelo de Decision Tree e treinar com dados de treino\n",
        "tree_model = DecisionTreeRegressor()\n",
        "tree_model.fit(X_train, y_train)\n",
        "\n",
        "#validar com dados de teste\n",
        "y_pred_tree = knn_model.predict(X_test)"
      ],
      "metadata": {
        "id": "bn_vlSmCqqvK"
      },
      "execution_count": 44,
      "outputs": []
    },
    {
      "cell_type": "markdown",
      "source": [
        "Por último iremos a avaliar o modelo de árvore de decisão.\n"
      ],
      "metadata": {
        "id": "lHkXwFbydeRn"
      }
    },
    {
      "cell_type": "code",
      "source": [
        "#Avaliação do modelo Decision Tree com os dados de teste comparados com os dados reais\n",
        "tree_mae = mean_absolute_error(y_test, y_pred_tree)\n",
        "tree_mse = mean_squared_error(y_test, y_pred_tree)\n",
        "tree_rmse = np.sqrt(tree_mse)\n",
        "tree_accuracy = accuracy_score(y_test, y_pred_tree)\n",
        "tree_confusion_matrix = confusion_matrix(y_test, y_pred_tree)\n",
        "\n",
        "print(\"MAE:\", tree_mae)\n",
        "print(\"RMSE:\", tree_rmse)\n",
        "print(\"Accuracy:\", accuracy_score(y_test, y_pred_tree))\n",
        "print(classification_report(y_test, y_pred_tree))\n",
        "print(\"Confusion Matrix:\", tree_confusion_matrix)"
      ],
      "metadata": {
        "id": "kdaTbJCdq2rR",
        "colab": {
          "base_uri": "https://localhost:8080/"
        },
        "outputId": "9a22976c-14e1-4150-d333-ccef8f0b276a"
      },
      "execution_count": 98,
      "outputs": [
        {
          "output_type": "stream",
          "name": "stdout",
          "text": [
            "MAE: 0.07723577235772358\n",
            "RMSE: 0.27791324609979207\n",
            "Accuracy: 0.9227642276422764\n",
            "              precision    recall  f1-score   support\n",
            "\n",
            "           0       0.90      0.95      0.92       123\n",
            "           1       0.95      0.89      0.92       123\n",
            "\n",
            "    accuracy                           0.92       246\n",
            "   macro avg       0.92      0.92      0.92       246\n",
            "weighted avg       0.92      0.92      0.92       246\n",
            "\n",
            "Confusion Matrix: [[117   6]\n",
            " [ 13 110]]\n"
          ]
        }
      ]
    },
    {
      "cell_type": "markdown",
      "source": [
        "Acurácia: 0.92\n",
        "\n",
        "MAE: 0.077\n",
        "\n",
        "RMSE: 0.27\n",
        "\n",
        "Matriz de confusão: previsões corretas (117 e 110) e previsões erradas (6 e 13) \n",
        "\n",
        "Em geral, estes resultados são bons mas são inferiores ao da regressão logistica."
      ],
      "metadata": {
        "id": "GmkYeqftvU7G"
      }
    },
    {
      "cell_type": "markdown",
      "source": [
        "Apresentação gráfica das precisões dos modelos. Isto permitirá uma análise visual e intuitiva dos resultados, tornando mais fácil identificar as forças e fraquezas de cada modelo. Além disso, esta comparação gráfica permitirá uma avaliação mais precisa da capacidade de cada modelo em detectar fraudes com eficiência."
      ],
      "metadata": {
        "id": "o5ci7--UkUvV"
      }
    },
    {
      "cell_type": "code",
      "source": [
        "acc_model = [knn_accuracy, nb_accuracy, regre_accuracy, tree_accuracy]\n",
        "mae_model = [knn_mae, nb_mae, regre_mae, tree_mae]\n",
        "rsme_model = [knn_rmse, nb_rmse, regre_rmse, tree_rmse]\n",
        "\n",
        "# Define o nome dos modelos\n",
        "model_names = ['k-nearest neighbors', 'Naive Bayes', 'Logistic Regretion', 'Decision Tree']\n",
        "\n",
        "# Cria o gráfico de barras para os acertos\n",
        "fig, (ax1,ax2,ax3) = plt.subplots(nrows=1, ncols=3, figsize=(22,8));\n",
        "fig.suptitle(\"Comparação dos Modelos de Prevenção de Fraude\", fontsize=16, y=1.05)\n",
        "\n",
        "ax1.bar(model_names, acc_model,width=0.7,)\n",
        "ax1.set_title(\" Precisão\",fontsize=15)\n",
        "\n",
        "ax2.bar(model_names, mae_model, width=0.7)\n",
        "ax2.set_title(\" Mean absolute error\",fontsize=15)\n",
        "\n",
        "ax3.bar(model_names, rsme_model, width=0.7)\n",
        "ax3.set_title(\"Root mean squared error\",fontsize=15)\n",
        "\n",
        "#Função para remover a borda superior e direita\n",
        "for i in [ax1, ax2, ax3]:\n",
        "  remove_spine(i)\n",
        " \n",
        "\n",
        "#Adicionar valores nas barras\n",
        "for i in range(4):\n",
        "  ax1.text(i, acc_model[i].round(2)+0.02, acc_model[i].round(2), va='center', ha='center', fontweight='bold')\n",
        "  ax2.text(i, mae_model[i]+0.001, mae_model[i].round(3), va='center', ha='center', fontweight='bold')\n",
        "  ax3.text(i, rsme_model[i].round(2)+0.005, rsme_model[i].round(2), va='center', ha='center', fontweight='bold')\n",
        "\n",
        "\n",
        "plt.tight_layout()\n",
        "plt.show()\n"
      ],
      "metadata": {
        "id": "EEFjBOttH13n",
        "colab": {
          "base_uri": "https://localhost:8080/",
          "height": 625
        },
        "outputId": "440d0867-ddd8-456c-ae89-a71643548153"
      },
      "execution_count": 234,
      "outputs": [
        {
          "output_type": "display_data",
          "data": {
            "text/plain": [
              "<Figure size 1584x576 with 3 Axes>"
            ],
            "image/png": "[encoded data removed]"
          },
          "metadata": {
            "needs_background": "light"
          }
        }
      ]
    },
    {
      "cell_type": "markdown",
      "source": [
        "Quanto maior a precisão melhor, ja em relação a MAE e ao RMSE, quanto menor melhor."
      ],
      "metadata": {
        "id": "yRobdPDEkizy"
      }
    },
    {
      "cell_type": "code",
      "source": [
        "matrix = [knn_confusion_matrix, nb_confusion_matrix, regre_confusion_matrix, tree_confusion_matrix]\n",
        "\n",
        "# Define o nome dos modelos\n",
        "model_names = ['k-nearest neighbors', 'Naive Bayes', 'Logistic Regretion', 'Decision Tree']\n",
        "\n",
        "# Cria o gráfico de barras para os acertos\n",
        "fig, (ax1,ax2,ax3,ax4) = plt.subplots(nrows=4, ncols=1, figsize=(8,15));\n",
        "\n",
        "ax1.bar(model_names, [matrix[i][0][0] for i in range(4)])\n",
        "ax1.set_title(\" Previsões corretas (Normal)\",y=1.05) \n",
        "\n",
        "ax2.bar(model_names, [matrix[i][1][1] for i in range(4)])\n",
        "ax2.set_title(\" Previsões corretas (Fraudes)\")\n",
        "\n",
        "ax3.bar(model_names, [matrix[i][0][1] for i in range(4)])\n",
        "ax3.set_title(\" Previsões erradas (Normal\")\n",
        "\n",
        "ax4.bar(model_names, [matrix[i][1][0] for i in range(4)])\n",
        "ax4.set_title(\" Previsões erradas (Fraudes)\", fontweight='bold')\n",
        "\n",
        "\n",
        "# título principal\n",
        "plt.suptitle(\"Comparação das previsões dos modelos\", fontsize=20, fontweight='bold',y=1.02)\n",
        "\n",
        "\n",
        "for i in [ax1, ax2, ax3, ax4]:\n",
        "  remove_spine(i)\n",
        "\n",
        "\n",
        "#Adicionar valores nas barras\n",
        "for i in range(4):\n",
        "     ax1.text(i, matrix[i][0][0]+5, matrix[i][0][0], va='center', ha='center', fontweight='bold')\n",
        "     ax2.text(i, matrix[i][1][1]+4, matrix[i][1][1], va='center', ha='center', fontweight='bold')\n",
        "     ax3.text(i, matrix[i][0][1]+0.3, matrix[i][0][1], va='center', ha='center', fontweight='bold')\n",
        "     ax4.text(i, matrix[i][1][0]+0.3, matrix[i][1][0], va='center', ha='center', fontweight='bold')\n",
        "\n",
        "\n",
        "plt.tight_layout()\n",
        "plt.show()"
      ],
      "metadata": {
        "id": "Dla_3HC3q4n3",
        "colab": {
          "base_uri": "https://localhost:8080/",
          "height": 1000
        },
        "outputId": "8a88423c-d4bb-43ce-f91c-1d623206ccca"
      },
      "execution_count": 289,
      "outputs": [
        {
          "output_type": "display_data",
          "data": {
            "text/plain": [
              "<Figure size 576x1080 with 4 Axes>"
            ],
            "image/png": "[encoded data removed]"
          },
          "metadata": {
            "needs_background": "light"
          }
        }
      ]
    },
    {
      "cell_type": "markdown",
      "source": [
        "# Conclusão   \n",
        "         \n",
        "### Comparação entre os modelos\n",
        "--------------------------\n",
        "  Modelo  | Acc | Mae | Rsme | TP | TN | FP | FN\n",
        "  ------------|-----------|-----------|-----------|-----------|-----------|-----------|-----------\n",
        "  Logistic Regretion | 0.94 | 0.056 | 0.238 | 118 | 114 | 5 | 9\n",
        "  k-nearest neighbors | 0.922 | 0.077 | 0.277 | 117 | 110 | 6 | 13 \n",
        "  Decision Tree| 0.922 | 0.077| 0.277 | 117 | 110 | 6 | 13\n",
        "  Naive Bayes | 0.91 | 0.085 | 0.29 | 118 | 107 | 5 | 16\n",
        "\n",
        "A partir dos dados apresentados acima, é possível ver que o modelo de Regressão Logística apresentou a melhor precisão, seguido de perto pelos modelos k-nearest neighbors e Decision Tree.\n",
        "\n",
        "Os modelos apresentam resultados similares em relação aos valores de TP (verdadeiros positivos), TN (verdadeiros negativos), FP (falsos positivos) e FN (falsos negativos). A diferença entre os modelos nesses valores não é significativa e, portanto, não afeta significativamente a precisão geral dos modelos. Entretanto, é importante levar em consideração que os valores de TP, TN, FP e FN são importantes para avaliar a performance dos modelos de prevenção de fraudes, já que eles representam, respectivamente, a quantidade de transações fraudulentas corretamente identificadas, a quantidade de transações não-fraudulentas corretamente identificadas, a quantidade de transações não-fraudulentas incorretamente identificadas como fraudes e a quantidade de transações fraudulentas incorretamente identificadas como não-fraudulentas.\n",
        "  "
      ],
      "metadata": {
        "id": "0oYrcW_ckyFq"
      }
    }
  ]
}