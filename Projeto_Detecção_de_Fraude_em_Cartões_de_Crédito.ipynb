{
  "nbformat": 4,
  "nbformat_minor": 0,
  "metadata": {
    "colab": {
      "provenance": [],
      "include_colab_link": true
    },
    "kernelspec": {
      "name": "python3",
      "display_name": "Python 3"
    }
  },
  "cells": [
    {
      "cell_type": "markdown",
      "metadata": {
        "id": "view-in-github",
        "colab_type": "text"
      },
      "source": [
        "<a href=\"https://colab.research.google.com/github/IsWallison/Deteccao_de_Fraude/blob/main/Projeto_Detec%C3%A7%C3%A3o_de_Fraude_em_Cart%C3%B5es_de_Cr%C3%A9dito.ipynb\" target=\"_parent\"><img src=\"https://colab.research.google.com/assets/colab-badge.svg\" alt=\"Open In Colab\"/></a>"
      ]
    },
    {
      "cell_type": "markdown",
      "metadata": {
        "id": "sC2BFMOKN1M7"
      },
      "source": [
        "---\n",
        "<img alt=\"Colaboratory logo\" width=\"15%\" src=\"https://raw.githubusercontent.com/carlosfab/escola-data-science/master/img/novo_logo_bg_claro.png\">\n",
        "\n",
        "#### **Data Science na Prática 3.0**\n",
        "*by [sigmoidal.ai](https://sigmoidal.ai)*  \n",
        "\n",
        "---"
      ]
    },
    {
      "cell_type": "markdown",
      "metadata": {
        "id": "IR56trFcPcC1"
      },
      "source": [
        "# Detecção de Fraudes em Cartões de Crédito\n",
        "\n",
        "Neste projeto, iremos abordar o problema das fraudes em cartões de crédito, uma das principais preocupações das instituições financeiras como bancos e *fintechs*. Apenas no Brasil, cerca de 12,1 milhões de pessoas já foram vítimas de algum tipo de fraude financeira no último ano. Traduzindo em valores, os golpes financeiros ultrapassaram a cifra de R$ 1,8 bilhão de prejuízo por ano para os últimos 12 meses.\n",
        "\n",
        "<p align=center>\n",
        "<img src=\"https://images.unsplash.com/photo-1592772874383-d08932d29db7?ixid=MnwxMjA3fDB8MHxwaG90by1wYWdlfHx8fGVufDB8fHx8&ixlib=rb-1.2.1&auto=format&fit=crop&w=699&q=80\" width=\"60%\"></p>\n",
        "\n",
        "Dentra essas fraudes, aquelas envolvendo cartões de crédito são de grande relevância uma vez que a sua não-detecção acaretará em prejuízos consideráveis, tanto para o consumidor quanto para a instituição financeira.\n",
        "\n",
        "Um outro fator a ser considerado é a quantidade de falsos positivos, ou seja, aquelas vezes em que você tentou fazer uma compra e teve seu cartão bloqueado preventivamente - o que provavelmente gerou estresse e constrangimento.\n",
        "\n",
        "Por todos esses motivos, o investimento na área de detecção de fraudes por meio de Inteligência Artificial vem crescendo a cada ano, representando uma grande oportunidade em *Data Science*. \n",
        "\n",
        "Dispondo de grandes volumes de dados como base histórica, um algoritmo de machine learning apenas um pouco melhor que os anteriores já representa uma economia de milhões de Reais. E esse é o desafio, aprimorar cada vez mais o uso de algoritmos visando inibir ou evitar transações fraudulentas."
      ]
    },
    {
      "cell_type": "markdown",
      "metadata": {
        "id": "0HVmpIxQWT4Y"
      },
      "source": [
        "## Importando os Dados\n",
        "\n",
        "Os dados que usaremos neste projeto foram disponibilizados por algumas empresas européias de cartão de crédito. O *dataset* representa as operações financeiras que aconteceram no período de dois dias, onde foram classificadas 492 fraudes em meio a quase 290 mil transações.\n",
        "\n",
        "Como você pode notar, este é um conjunto de dados extremamente desbalanceado, onde as fraudes representam apenas 0,17% do total.\n",
        "\n",
        "Outro detalhe interessante é que as *features* são todas numéricas, e foram descaracterizadas (por problemas ligados à privacidade e segurança). Assim, os nomes das colunas são representados por $[V1, V2, V3 \\dots, V28]$ \n",
        "\n",
        "<p align=center>\n",
        "<img src=\"https://images.unsplash.com/photo-1620714223084-8fcacc6dfd8d?ixid=MnwxMjA3fDB8MHxwaG90by1wYWdlfHx8fGVufDB8fHx8&ixlib=rb-1.2.1&auto=format&fit=crop&w=1051&q=80\" width=\"50%\"></p>\n",
        "\n",
        "[Na página original dos dados](https://www.kaggle.com/mlg-ulb/creditcardfraud), também é informado que as variáveis passaram por uma transformação conhecida como Análise de Componentes Principais (*Principal Component Analysis* - PCA).\n",
        "\n",
        "A PCA permite a redução da dimensionalidade enquanto mantém o maior número possível de informações. Para conseguir isso, o algoritmo encontra um conjunto novo de recursos - os chamados **componentes**.\n",
        "\n",
        "Esses componentes são em número menor or igual às variáveis originais. No caso deste projeto, os componentes achados pela transformação da PCA são as próprias colunas $[V1, V2, V3 \\dots, V28]$.\n",
        "\n",
        "Neste código, vamos importar algumas bibliotecas para ajudar a realizar as tarefas específicas que precisamos. Essas bibliotecas fornecem conjuntos de funções e classes pré-escritas que nos permitirão realizar as tarefas de forma mais eficiente e evitarão a necessidade de escrever tudo do zero."
      ]
    },
    {
      "cell_type": "code",
      "metadata": {
        "id": "oQ4bNy7udtEE"
      },
      "source": [
        "# importar os pacotes necessários\n",
        "import pandas as pd\n",
        "import numpy as np\n",
        "import matplotlib.pyplot as plt\n",
        "import seaborn as sns\n",
        "\n",
        "\n",
        "from sklearn.model_selection import train_test_split\n",
        "from sklearn.preprocessing import StandardScaler\n",
        "from sklearn.metrics import roc_auc_score, roc_curve, accuracy_score\n",
        "from sklearn.metrics import classification_report, mean_absolute_error, mean_squared_error, confusion_matrix\n",
        "\n",
        "# Importar os modelos\n",
        "from sklearn.neighbors import KNeighborsClassifier\n",
        "from sklearn.naive_bayes import GaussianNB\n",
        "from sklearn.linear_model import LogisticRegression\n",
        "from sklearn.tree import DecisionTreeRegressor\n",
        "\n",
        "from imblearn.under_sampling import RandomUnderSampler\n",
        "import warnings\n",
        "warnings.filterwarnings('ignore')"
      ],
      "execution_count": 2,
      "outputs": []
    },
    {
      "cell_type": "markdown",
      "metadata": {
        "id": "g5XDTWW5LRVe"
      },
      "source": [
        "Para facilitar a aquisição dos dados, criei um *link* com acesso direto ao `csv`. Com isso, basta importar o conjunto de dados usando o método `pd.read_csv()`.\n",
        "\n",
        "CSV é a sigla para Comma Separated Values (em português, valores separados por vírgulas). Um arquivo CSV é um arquivo de texto simples que armazena informações de planilhas e tabelas. O conteúdo geralmente é uma tabela de texto, números ou datas. Os arquivos CSV podem ser facilmente importados e exportados usando programas que armazenam dados em tabelas.\n",
        "\n",
        "Os dados serão atribuidos a variavel 'df'."
      ]
    },
    {
      "cell_type": "code",
      "metadata": {
        "id": "4NxUOfDOj2j8",
        "colab": {
          "base_uri": "https://localhost:8080/"
        },
        "outputId": "0c5daf4f-bfcb-44d4-dc0f-ef269445ce14"
      },
      "source": [
        "file_path = \"https://www.dropbox.com/s/b44o3t3ehmnx2b7/creditcard.csv?dl=1\"\n",
        "\n",
        "# importar os dados para um dataframe\n",
        "df = pd.read_csv(file_path)\n",
        "\n",
        "# dimensões do conjunto original\n",
        "print(\"Dimensões do Conjunto Original: \", df.shape)\n"
      ],
      "execution_count": 3,
      "outputs": [
        {
          "output_type": "stream",
          "name": "stdout",
          "text": [
            "Dimensões do Conjunto Original:  (284807, 31)\n"
          ]
        }
      ]
    },
    {
      "cell_type": "markdown",
      "metadata": {
        "id": "7nF_Dhd81Cvq"
      },
      "source": [
        "Com os dados importados para dentro de uma estrutura *Dataframe* - e não havendo a necessidade de mais nenhum ajuste ou configuração nesta etapa, pode-se iniciar uma análise exploratória dos dados a fim de preparar um modelo de *Machine Learning*.\n",
        "\n",
        "Vamos à Análise Exploratória."
      ]
    },
    {
      "cell_type": "markdown",
      "metadata": {
        "id": "8UtXyZ6stlSM"
      },
      "source": [
        "## Análise Exploratória\n",
        "\n",
        "* Ver as 5 primeiras entradas atravez da função **head()**, Ela é usada para retornar as primeiras N linhas de um conjunto de dados, onde N é um valor especificado pelo usuário, por padrão o valor de N é 5.\n"
      ]
    },
    {
      "cell_type": "code",
      "source": [
        "df.head()"
      ],
      "metadata": {
        "colab": {
          "base_uri": "https://localhost:8080/",
          "height": 235
        },
        "id": "rNslpc8aQ3AC",
        "outputId": "1e9b1f8a-5592-451e-887d-1ae061bcc457"
      },
      "execution_count": 4,
      "outputs": [
        {
          "output_type": "execute_result",
          "data": {
            "text/plain": [
              "   Time        V1        V2        V3        V4        V5        V6        V7  \\\n",
              "0   0.0 -1.359807 -0.072781  2.536347  1.378155 -0.338321  0.462388  0.239599   \n",
              "1   0.0  1.191857  0.266151  0.166480  0.448154  0.060018 -0.082361 -0.078803   \n",
              "2   1.0 -1.358354 -1.340163  1.773209  0.379780 -0.503198  1.800499  0.791461   \n",
              "3   1.0 -0.966272 -0.185226  1.792993 -0.863291 -0.010309  1.247203  0.237609   \n",
              "4   2.0 -1.158233  0.877737  1.548718  0.403034 -0.407193  0.095921  0.592941   \n",
              "\n",
              "         V8        V9  ...       V21       V22       V23       V24       V25  \\\n",
              "0  0.098698  0.363787  ... -0.018307  0.277838 -0.110474  0.066928  0.128539   \n",
              "1  0.085102 -0.255425  ... -0.225775 -0.638672  0.101288 -0.339846  0.167170   \n",
              "2  0.247676 -1.514654  ...  0.247998  0.771679  0.909412 -0.689281 -0.327642   \n",
              "3  0.377436 -1.387024  ... -0.108300  0.005274 -0.190321 -1.175575  0.647376   \n",
              "4 -0.270533  0.817739  ... -0.009431  0.798278 -0.137458  0.141267 -0.206010   \n",
              "\n",
              "        V26       V27       V28  Amount  Class  \n",
              "0 -0.189115  0.133558 -0.021053  149.62      0  \n",
              "1  0.125895 -0.008983  0.014724    2.69      0  \n",
              "2 -0.139097 -0.055353 -0.059752  378.66      0  \n",
              "3 -0.221929  0.062723  0.061458  123.50      0  \n",
              "4  0.502292  0.219422  0.215153   69.99      0  \n",
              "\n",
              "[5 rows x 31 columns]"
            ],
            "text/html": [
              "\n",
              "  <div id=\"df-4b0ed649-4fce-4d9c-bf4a-505e068d0724\">\n",
              "    <div class=\"colab-df-container\">\n",
              "      <div>\n",
              "<style scoped>\n",
              "    .dataframe tbody tr th:only-of-type {\n",
              "        vertical-align: middle;\n",
              "    }\n",
              "\n",
              "    .dataframe tbody tr th {\n",
              "        vertical-align: top;\n",
              "    }\n",
              "\n",
              "    .dataframe thead th {\n",
              "        text-align: right;\n",
              "    }\n",
              "</style>\n",
              "<table border=\"1\" class=\"dataframe\">\n",
              "  <thead>\n",
              "    <tr style=\"text-align: right;\">\n",
              "      <th></th>\n",
              "      <th>Time</th>\n",
              "      <th>V1</th>\n",
              "      <th>V2</th>\n",
              "      <th>V3</th>\n",
              "      <th>V4</th>\n",
              "      <th>V5</th>\n",
              "      <th>V6</th>\n",
              "      <th>V7</th>\n",
              "      <th>V8</th>\n",
              "      <th>V9</th>\n",
              "      <th>...</th>\n",
              "      <th>V21</th>\n",
              "      <th>V22</th>\n",
              "      <th>V23</th>\n",
              "      <th>V24</th>\n",
              "      <th>V25</th>\n",
              "      <th>V26</th>\n",
              "      <th>V27</th>\n",
              "      <th>V28</th>\n",
              "      <th>Amount</th>\n",
              "      <th>Class</th>\n",
              "    </tr>\n",
              "  </thead>\n",
              "  <tbody>\n",
              "    <tr>\n",
              "      <th>0</th>\n",
              "      <td>0.0</td>\n",
              "      <td>-1.359807</td>\n",
              "      <td>-0.072781</td>\n",
              "      <td>2.536347</td>\n",
              "      <td>1.378155</td>\n",
              "      <td>-0.338321</td>\n",
              "      <td>0.462388</td>\n",
              "      <td>0.239599</td>\n",
              "      <td>0.098698</td>\n",
              "      <td>0.363787</td>\n",
              "      <td>...</td>\n",
              "      <td>-0.018307</td>\n",
              "      <td>0.277838</td>\n",
              "      <td>-0.110474</td>\n",
              "      <td>0.066928</td>\n",
              "      <td>0.128539</td>\n",
              "      <td>-0.189115</td>\n",
              "      <td>0.133558</td>\n",
              "      <td>-0.021053</td>\n",
              "      <td>149.62</td>\n",
              "      <td>0</td>\n",
              "    </tr>\n",
              "    <tr>\n",
              "      <th>1</th>\n",
              "      <td>0.0</td>\n",
              "      <td>1.191857</td>\n",
              "      <td>0.266151</td>\n",
              "      <td>0.166480</td>\n",
              "      <td>0.448154</td>\n",
              "      <td>0.060018</td>\n",
              "      <td>-0.082361</td>\n",
              "      <td>-0.078803</td>\n",
              "      <td>0.085102</td>\n",
              "      <td>-0.255425</td>\n",
              "      <td>...</td>\n",
              "      <td>-0.225775</td>\n",
              "      <td>-0.638672</td>\n",
              "      <td>0.101288</td>\n",
              "      <td>-0.339846</td>\n",
              "      <td>0.167170</td>\n",
              "      <td>0.125895</td>\n",
              "      <td>-0.008983</td>\n",
              "      <td>0.014724</td>\n",
              "      <td>2.69</td>\n",
              "      <td>0</td>\n",
              "    </tr>\n",
              "    <tr>\n",
              "      <th>2</th>\n",
              "      <td>1.0</td>\n",
              "      <td>-1.358354</td>\n",
              "      <td>-1.340163</td>\n",
              "      <td>1.773209</td>\n",
              "      <td>0.379780</td>\n",
              "      <td>-0.503198</td>\n",
              "      <td>1.800499</td>\n",
              "      <td>0.791461</td>\n",
              "      <td>0.247676</td>\n",
              "      <td>-1.514654</td>\n",
              "      <td>...</td>\n",
              "      <td>0.247998</td>\n",
              "      <td>0.771679</td>\n",
              "      <td>0.909412</td>\n",
              "      <td>-0.689281</td>\n",
              "      <td>-0.327642</td>\n",
              "      <td>-0.139097</td>\n",
              "      <td>-0.055353</td>\n",
              "      <td>-0.059752</td>\n",
              "      <td>378.66</td>\n",
              "      <td>0</td>\n",
              "    </tr>\n",
              "    <tr>\n",
              "      <th>3</th>\n",
              "      <td>1.0</td>\n",
              "      <td>-0.966272</td>\n",
              "      <td>-0.185226</td>\n",
              "      <td>1.792993</td>\n",
              "      <td>-0.863291</td>\n",
              "      <td>-0.010309</td>\n",
              "      <td>1.247203</td>\n",
              "      <td>0.237609</td>\n",
              "      <td>0.377436</td>\n",
              "      <td>-1.387024</td>\n",
              "      <td>...</td>\n",
              "      <td>-0.108300</td>\n",
              "      <td>0.005274</td>\n",
              "      <td>-0.190321</td>\n",
              "      <td>-1.175575</td>\n",
              "      <td>0.647376</td>\n",
              "      <td>-0.221929</td>\n",
              "      <td>0.062723</td>\n",
              "      <td>0.061458</td>\n",
              "      <td>123.50</td>\n",
              "      <td>0</td>\n",
              "    </tr>\n",
              "    <tr>\n",
              "      <th>4</th>\n",
              "      <td>2.0</td>\n",
              "      <td>-1.158233</td>\n",
              "      <td>0.877737</td>\n",
              "      <td>1.548718</td>\n",
              "      <td>0.403034</td>\n",
              "      <td>-0.407193</td>\n",
              "      <td>0.095921</td>\n",
              "      <td>0.592941</td>\n",
              "      <td>-0.270533</td>\n",
              "      <td>0.817739</td>\n",
              "      <td>...</td>\n",
              "      <td>-0.009431</td>\n",
              "      <td>0.798278</td>\n",
              "      <td>-0.137458</td>\n",
              "      <td>0.141267</td>\n",
              "      <td>-0.206010</td>\n",
              "      <td>0.502292</td>\n",
              "      <td>0.219422</td>\n",
              "      <td>0.215153</td>\n",
              "      <td>69.99</td>\n",
              "      <td>0</td>\n",
              "    </tr>\n",
              "  </tbody>\n",
              "</table>\n",
              "<p>5 rows × 31 columns</p>\n",
              "</div>\n",
              "      <button class=\"colab-df-convert\" onclick=\"convertToInteractive('df-4b0ed649-4fce-4d9c-bf4a-505e068d0724')\"\n",
              "              title=\"Convert this dataframe to an interactive table.\"\n",
              "              style=\"display:none;\">\n",
              "        \n",
              "  <svg xmlns=\"http://www.w3.org/2000/svg\" height=\"24px\"viewBox=\"0 0 24 24\"\n",
              "       width=\"24px\">\n",
              "    <path d=\"M0 0h24v24H0V0z\" fill=\"none\"/>\n",
              "    <path d=\"M18.56 5.44l.94 2.06.94-2.06 2.06-.94-2.06-.94-.94-2.06-.94 2.06-2.06.94zm-11 1L8.5 8.5l.94-2.06 2.06-.94-2.06-.94L8.5 2.5l-.94 2.06-2.06.94zm10 10l.94 2.06.94-2.06 2.06-.94-2.06-.94-.94-2.06-.94 2.06-2.06.94z\"/><path d=\"M17.41 7.96l-1.37-1.37c-.4-.4-.92-.59-1.43-.59-.52 0-1.04.2-1.43.59L10.3 9.45l-7.72 7.72c-.78.78-.78 2.05 0 2.83L4 21.41c.39.39.9.59 1.41.59.51 0 1.02-.2 1.41-.59l7.78-7.78 2.81-2.81c.8-.78.8-2.07 0-2.86zM5.41 20L4 18.59l7.72-7.72 1.47 1.35L5.41 20z\"/>\n",
              "  </svg>\n",
              "      </button>\n",
              "      \n",
              "  <style>\n",
              "    .colab-df-container {\n",
              "      display:flex;\n",
              "      flex-wrap:wrap;\n",
              "      gap: 12px;\n",
              "    }\n",
              "\n",
              "    .colab-df-convert {\n",
              "      background-color: #E8F0FE;\n",
              "      border: none;\n",
              "      border-radius: 50%;\n",
              "      cursor: pointer;\n",
              "      display: none;\n",
              "      fill: #1967D2;\n",
              "      height: 32px;\n",
              "      padding: 0 0 0 0;\n",
              "      width: 32px;\n",
              "    }\n",
              "\n",
              "    .colab-df-convert:hover {\n",
              "      background-color: #E2EBFA;\n",
              "      box-shadow: 0px 1px 2px rgba(60, 64, 67, 0.3), 0px 1px 3px 1px rgba(60, 64, 67, 0.15);\n",
              "      fill: #174EA6;\n",
              "    }\n",
              "\n",
              "    [theme=dark] .colab-df-convert {\n",
              "      background-color: #3B4455;\n",
              "      fill: #D2E3FC;\n",
              "    }\n",
              "\n",
              "    [theme=dark] .colab-df-convert:hover {\n",
              "      background-color: #434B5C;\n",
              "      box-shadow: 0px 1px 3px 1px rgba(0, 0, 0, 0.15);\n",
              "      filter: drop-shadow(0px 1px 2px rgba(0, 0, 0, 0.3));\n",
              "      fill: #FFFFFF;\n",
              "    }\n",
              "  </style>\n",
              "\n",
              "      <script>\n",
              "        const buttonEl =\n",
              "          document.querySelector('#df-4b0ed649-4fce-4d9c-bf4a-505e068d0724 button.colab-df-convert');\n",
              "        buttonEl.style.display =\n",
              "          google.colab.kernel.accessAllowed ? 'block' : 'none';\n",
              "\n",
              "        async function convertToInteractive(key) {\n",
              "          const element = document.querySelector('#df-4b0ed649-4fce-4d9c-bf4a-505e068d0724');\n",
              "          const dataTable =\n",
              "            await google.colab.kernel.invokeFunction('convertToInteractive',\n",
              "                                                     [key], {});\n",
              "          if (!dataTable) return;\n",
              "\n",
              "          const docLinkHtml = 'Like what you see? Visit the ' +\n",
              "            '<a target=\"_blank\" href=https://colab.research.google.com/notebooks/data_table.ipynb>data table notebook</a>'\n",
              "            + ' to learn more about interactive tables.';\n",
              "          element.innerHTML = '';\n",
              "          dataTable['output_type'] = 'display_data';\n",
              "          await google.colab.output.renderOutput(dataTable, element);\n",
              "          const docLink = document.createElement('div');\n",
              "          docLink.innerHTML = docLinkHtml;\n",
              "          element.appendChild(docLink);\n",
              "        }\n",
              "      </script>\n",
              "    </div>\n",
              "  </div>\n",
              "  "
            ]
          },
          "metadata": {},
          "execution_count": 4
        }
      ]
    },
    {
      "cell_type": "code",
      "source": [
        "df.columns"
      ],
      "metadata": {
        "colab": {
          "base_uri": "https://localhost:8080/"
        },
        "id": "xJdopTfKylBq",
        "outputId": "8d3656d8-aef8-445f-d1db-83d59e5fc3b3"
      },
      "execution_count": 28,
      "outputs": [
        {
          "output_type": "execute_result",
          "data": {
            "text/plain": [
              "Index(['Time', 'V1', 'V2', 'V3', 'V4', 'V5', 'V6', 'V7', 'V8', 'V9', 'V10',\n",
              "       'V11', 'V12', 'V13', 'V14', 'V15', 'V16', 'V17', 'V18', 'V19', 'V20',\n",
              "       'V21', 'V22', 'V23', 'V24', 'V25', 'V26', 'V27', 'V28', 'Amount',\n",
              "       'Class'],\n",
              "      dtype='object')"
            ]
          },
          "metadata": {},
          "execution_count": 28
        }
      ]
    },
    {
      "cell_type": "markdown",
      "source": [
        "* Ver o resumo estatístico do dataframe \n",
        "\"describe()\" é uma função comum em bibliotecas de análise de dados, ela é usada para calcular estatísticas descritivas básicas de um conjunto de dados, como média, desvio padrão, quartis e contagem.\n",
        "\n"
      ],
      "metadata": {
        "id": "-2jC6n6Xwcnd"
      }
    },
    {
      "cell_type": "code",
      "source": [
        "df[['Time','Amount', 'Class']].describe()"
      ],
      "metadata": {
        "colab": {
          "base_uri": "https://localhost:8080/",
          "height": 300
        },
        "id": "L6_BqGIqQ7Ag",
        "outputId": "80ceb4f0-ec4f-4c3b-afaf-8b8706a4880c"
      },
      "execution_count": 25,
      "outputs": [
        {
          "output_type": "execute_result",
          "data": {
            "text/plain": [
              "                Time         Amount          Class\n",
              "count  284807.000000  284807.000000  284807.000000\n",
              "mean    94813.859575      88.349619       0.001727\n",
              "std     47488.145955     250.120109       0.041527\n",
              "min         0.000000       0.000000       0.000000\n",
              "25%     54201.500000       5.600000       0.000000\n",
              "50%     84692.000000      22.000000       0.000000\n",
              "75%    139320.500000      77.165000       0.000000\n",
              "max    172792.000000   25691.160000       1.000000"
            ],
            "text/html": [
              "\n",
              "  <div id=\"df-a760315d-6f0c-41ed-98bf-1d02a4c145a5\">\n",
              "    <div class=\"colab-df-container\">\n",
              "      <div>\n",
              "<style scoped>\n",
              "    .dataframe tbody tr th:only-of-type {\n",
              "        vertical-align: middle;\n",
              "    }\n",
              "\n",
              "    .dataframe tbody tr th {\n",
              "        vertical-align: top;\n",
              "    }\n",
              "\n",
              "    .dataframe thead th {\n",
              "        text-align: right;\n",
              "    }\n",
              "</style>\n",
              "<table border=\"1\" class=\"dataframe\">\n",
              "  <thead>\n",
              "    <tr style=\"text-align: right;\">\n",
              "      <th></th>\n",
              "      <th>Time</th>\n",
              "      <th>Amount</th>\n",
              "      <th>Class</th>\n",
              "    </tr>\n",
              "  </thead>\n",
              "  <tbody>\n",
              "    <tr>\n",
              "      <th>count</th>\n",
              "      <td>284807.000000</td>\n",
              "      <td>284807.000000</td>\n",
              "      <td>284807.000000</td>\n",
              "    </tr>\n",
              "    <tr>\n",
              "      <th>mean</th>\n",
              "      <td>94813.859575</td>\n",
              "      <td>88.349619</td>\n",
              "      <td>0.001727</td>\n",
              "    </tr>\n",
              "    <tr>\n",
              "      <th>std</th>\n",
              "      <td>47488.145955</td>\n",
              "      <td>250.120109</td>\n",
              "      <td>0.041527</td>\n",
              "    </tr>\n",
              "    <tr>\n",
              "      <th>min</th>\n",
              "      <td>0.000000</td>\n",
              "      <td>0.000000</td>\n",
              "      <td>0.000000</td>\n",
              "    </tr>\n",
              "    <tr>\n",
              "      <th>25%</th>\n",
              "      <td>54201.500000</td>\n",
              "      <td>5.600000</td>\n",
              "      <td>0.000000</td>\n",
              "    </tr>\n",
              "    <tr>\n",
              "      <th>50%</th>\n",
              "      <td>84692.000000</td>\n",
              "      <td>22.000000</td>\n",
              "      <td>0.000000</td>\n",
              "    </tr>\n",
              "    <tr>\n",
              "      <th>75%</th>\n",
              "      <td>139320.500000</td>\n",
              "      <td>77.165000</td>\n",
              "      <td>0.000000</td>\n",
              "    </tr>\n",
              "    <tr>\n",
              "      <th>max</th>\n",
              "      <td>172792.000000</td>\n",
              "      <td>25691.160000</td>\n",
              "      <td>1.000000</td>\n",
              "    </tr>\n",
              "  </tbody>\n",
              "</table>\n",
              "</div>\n",
              "      <button class=\"colab-df-convert\" onclick=\"convertToInteractive('df-a760315d-6f0c-41ed-98bf-1d02a4c145a5')\"\n",
              "              title=\"Convert this dataframe to an interactive table.\"\n",
              "              style=\"display:none;\">\n",
              "        \n",
              "  <svg xmlns=\"http://www.w3.org/2000/svg\" height=\"24px\"viewBox=\"0 0 24 24\"\n",
              "       width=\"24px\">\n",
              "    <path d=\"M0 0h24v24H0V0z\" fill=\"none\"/>\n",
              "    <path d=\"M18.56 5.44l.94 2.06.94-2.06 2.06-.94-2.06-.94-.94-2.06-.94 2.06-2.06.94zm-11 1L8.5 8.5l.94-2.06 2.06-.94-2.06-.94L8.5 2.5l-.94 2.06-2.06.94zm10 10l.94 2.06.94-2.06 2.06-.94-2.06-.94-.94-2.06-.94 2.06-2.06.94z\"/><path d=\"M17.41 7.96l-1.37-1.37c-.4-.4-.92-.59-1.43-.59-.52 0-1.04.2-1.43.59L10.3 9.45l-7.72 7.72c-.78.78-.78 2.05 0 2.83L4 21.41c.39.39.9.59 1.41.59.51 0 1.02-.2 1.41-.59l7.78-7.78 2.81-2.81c.8-.78.8-2.07 0-2.86zM5.41 20L4 18.59l7.72-7.72 1.47 1.35L5.41 20z\"/>\n",
              "  </svg>\n",
              "      </button>\n",
              "      \n",
              "  <style>\n",
              "    .colab-df-container {\n",
              "      display:flex;\n",
              "      flex-wrap:wrap;\n",
              "      gap: 12px;\n",
              "    }\n",
              "\n",
              "    .colab-df-convert {\n",
              "      background-color: #E8F0FE;\n",
              "      border: none;\n",
              "      border-radius: 50%;\n",
              "      cursor: pointer;\n",
              "      display: none;\n",
              "      fill: #1967D2;\n",
              "      height: 32px;\n",
              "      padding: 0 0 0 0;\n",
              "      width: 32px;\n",
              "    }\n",
              "\n",
              "    .colab-df-convert:hover {\n",
              "      background-color: #E2EBFA;\n",
              "      box-shadow: 0px 1px 2px rgba(60, 64, 67, 0.3), 0px 1px 3px 1px rgba(60, 64, 67, 0.15);\n",
              "      fill: #174EA6;\n",
              "    }\n",
              "\n",
              "    [theme=dark] .colab-df-convert {\n",
              "      background-color: #3B4455;\n",
              "      fill: #D2E3FC;\n",
              "    }\n",
              "\n",
              "    [theme=dark] .colab-df-convert:hover {\n",
              "      background-color: #434B5C;\n",
              "      box-shadow: 0px 1px 3px 1px rgba(0, 0, 0, 0.15);\n",
              "      filter: drop-shadow(0px 1px 2px rgba(0, 0, 0, 0.3));\n",
              "      fill: #FFFFFF;\n",
              "    }\n",
              "  </style>\n",
              "\n",
              "      <script>\n",
              "        const buttonEl =\n",
              "          document.querySelector('#df-a760315d-6f0c-41ed-98bf-1d02a4c145a5 button.colab-df-convert');\n",
              "        buttonEl.style.display =\n",
              "          google.colab.kernel.accessAllowed ? 'block' : 'none';\n",
              "\n",
              "        async function convertToInteractive(key) {\n",
              "          const element = document.querySelector('#df-a760315d-6f0c-41ed-98bf-1d02a4c145a5');\n",
              "          const dataTable =\n",
              "            await google.colab.kernel.invokeFunction('convertToInteractive',\n",
              "                                                     [key], {});\n",
              "          if (!dataTable) return;\n",
              "\n",
              "          const docLinkHtml = 'Like what you see? Visit the ' +\n",
              "            '<a target=\"_blank\" href=https://colab.research.google.com/notebooks/data_table.ipynb>data table notebook</a>'\n",
              "            + ' to learn more about interactive tables.';\n",
              "          element.innerHTML = '';\n",
              "          dataTable['output_type'] = 'display_data';\n",
              "          await google.colab.output.renderOutput(dataTable, element);\n",
              "          const docLink = document.createElement('div');\n",
              "          docLink.innerHTML = docLinkHtml;\n",
              "          element.appendChild(docLink);\n",
              "        }\n",
              "      </script>\n",
              "    </div>\n",
              "  </div>\n",
              "  "
            ]
          },
          "metadata": {},
          "execution_count": 25
        }
      ]
    },
    {
      "cell_type": "markdown",
      "source": [
        "Os valores de 'Time' e 'Amount\" variam de 0 até 172.792 e 0 até 25.691 respectivamente, terão de ser normalizados, pois apresentam uma escala muito diferente."
      ],
      "metadata": {
        "id": "XFPt2szz4E6y"
      }
    },
    {
      "cell_type": "markdown",
      "source": [
        "A função \"info()\" é usada para obter informações gerais sobre um conjunto de dados, incluindo o número de linhas e colunas, o tipo de dados de cada coluna, a quantidade de valores não-nulos e memória usada."
      ],
      "metadata": {
        "id": "uOan8pKDy7yQ"
      }
    },
    {
      "cell_type": "code",
      "source": [
        "df.info()"
      ],
      "metadata": {
        "colab": {
          "base_uri": "https://localhost:8080/"
        },
        "id": "xcWvtK-sVYFG",
        "outputId": "6ea5061b-6828-408e-bb65-cad6af6c7ef2"
      },
      "execution_count": 31,
      "outputs": [
        {
          "output_type": "stream",
          "name": "stdout",
          "text": [
            "<class 'pandas.core.frame.DataFrame'>\n",
            "RangeIndex: 284807 entries, 0 to 284806\n",
            "Data columns (total 31 columns):\n",
            " #   Column  Non-Null Count   Dtype  \n",
            "---  ------  --------------   -----  \n",
            " 0   Time    284807 non-null  float64\n",
            " 1   V1      284807 non-null  float64\n",
            " 2   V2      284807 non-null  float64\n",
            " 3   V3      284807 non-null  float64\n",
            " 4   V4      284807 non-null  float64\n",
            " 5   V5      284807 non-null  float64\n",
            " 6   V6      284807 non-null  float64\n",
            " 7   V7      284807 non-null  float64\n",
            " 8   V8      284807 non-null  float64\n",
            " 9   V9      284807 non-null  float64\n",
            " 10  V10     284807 non-null  float64\n",
            " 11  V11     284807 non-null  float64\n",
            " 12  V12     284807 non-null  float64\n",
            " 13  V13     284807 non-null  float64\n",
            " 14  V14     284807 non-null  float64\n",
            " 15  V15     284807 non-null  float64\n",
            " 16  V16     284807 non-null  float64\n",
            " 17  V17     284807 non-null  float64\n",
            " 18  V18     284807 non-null  float64\n",
            " 19  V19     284807 non-null  float64\n",
            " 20  V20     284807 non-null  float64\n",
            " 21  V21     284807 non-null  float64\n",
            " 22  V22     284807 non-null  float64\n",
            " 23  V23     284807 non-null  float64\n",
            " 24  V24     284807 non-null  float64\n",
            " 25  V25     284807 non-null  float64\n",
            " 26  V26     284807 non-null  float64\n",
            " 27  V27     284807 non-null  float64\n",
            " 28  V28     284807 non-null  float64\n",
            " 29  Amount  284807 non-null  float64\n",
            " 30  Class   284807 non-null  int64  \n",
            "dtypes: float64(30), int64(1)\n",
            "memory usage: 67.4 MB\n"
          ]
        }
      ]
    },
    {
      "cell_type": "markdown",
      "source": [
        "* Plotar um gráfico de barras para vizualizar o balanceamento do *dataset*\n"
      ],
      "metadata": {
        "id": "cUWwrxAN0Czo"
      }
    },
    {
      "cell_type": "code",
      "source": [
        "print(df['Class'].value_counts())\n",
        "print(f\"Fraudes representam {(((df['Class']==1).sum())/df.shape[0]*100):.3f}% do dataset. \\n\")\n",
        "\n",
        "fig, ax = plt.subplots();\n",
        "\n",
        "sns.countplot('Class', data=df, ax=ax);\n",
        "ax.set_title('Distribuição das Classes');\n",
        "total = df['Class'].value_counts()\n",
        "\n",
        "#Adicionar valor na barra\n",
        "for i in range(2):\n",
        "  ax.text(i, i+10000, total[i], va='center', ha='center', fontweight='bold',)\n",
        "\n",
        "#remover borda lateral e superior\n",
        "ax.spines['top'].set_visible(False)\n",
        "ax.spines['right'].set_visible(False)\n",
        "\n"
      ],
      "metadata": {
        "colab": {
          "base_uri": "https://localhost:8080/",
          "height": 387
        },
        "id": "ulYBCyzNR5YW",
        "outputId": "90606319-ecc7-4fe0-bdde-0112e40dc442"
      },
      "execution_count": 35,
      "outputs": [
        {
          "output_type": "stream",
          "name": "stdout",
          "text": [
            "0    284315\n",
            "1       492\n",
            "Name: Class, dtype: int64\n",
            "Fraudes representam 0.173% do dataset. \n",
            "\n"
          ]
        },
        {
          "output_type": "display_data",
          "data": {
            "text/plain": [
              "<Figure size 432x288 with 1 Axes>"
            ],
            "image/png": "[encoded data removed]"
          },
          "metadata": {
            "needs_background": "light"
          }
        }
      ]
    },
    {
      "cell_type": "markdown",
      "source": [
        "Existe um desequilíbrio de classes, o que significa que uma classe tem muito mais exemplos do que outra. Se não balancearmos os dados, o modelo pode se inclinar para a classe majoritária e não ser capaz de classificar adequadamente a classe minoritária. \n",
        "Para ficar claro \"class = 0\" significa que a transação é normal, enquanto \"class = 1\" significa fraude\n"
      ],
      "metadata": {
        "id": "B8IwYhSNatfF"
      }
    },
    {
      "cell_type": "markdown",
      "source": [
        "Abixo temos um gráficos de histograma para vizualiar fraudes e transações normais.\n",
        "Histograma é a representação gráfica em colunas ou em barras que demonstra uma distribuição de frequências. \n",
        "\n",
        "Os histogramas em si são plotados com base nas colunas \"Time\" e \"Class\" do dataframe "
      ],
      "metadata": {
        "id": "lLNhfb6O0cso"
      }
    },
    {
      "cell_type": "code",
      "source": [
        "fig, (ax1,ax2) = plt.subplots(nrows=2, ncols=1, figsize=(12,6));\n",
        "\n",
        "num_bins = 45\n",
        "# Plotar o primeiro gráfico com classe = 0 \n",
        "df['Time'][df['Class'] == 0].hist(ax=ax1,bins=num_bins,edgecolor=\"white\", linewidth=1)\n",
        "# Plotar o segundo gráfico com classe = 1\n",
        "df['Time'][df['Class'] == 1].hist(ax=ax2,bins=num_bins,edgecolor=\"white\", linewidth=1)\n",
        "\n",
        "# Definir titulo e elementos do gráfico 1\n",
        "ax1.set_title(\"Normal\")\n",
        "ax1.set_xlabel(\"Tempo (Segundos)\\n\")\n",
        "ax1.set_ylabel(\"Transações\")\n",
        "ax1.grid(visible=None)\n",
        "#Remover borda superior e lateral do gráfico 1\n",
        "ax1.spines['top'].set_visible(False)\n",
        "ax1.spines['right'].set_visible(False)\n",
        "ax1.set_xlim(0, (df['Time'][df['Class'] == 1].max()))\n",
        "\n",
        "# Definir titulo e elementos do gráfico 2\n",
        "ax2.set_title(\"Fraude\")\n",
        "ax2.set_xlabel(\"Tempo (Segundos)\")\n",
        "ax2.set_ylabel(\"Transações\")\n",
        "#Remover borda superior e lateral do gráfico 2\n",
        "ax2.grid(visible=None)\n",
        "ax2.spines['top'].set_visible(False)\n",
        "ax2.spines['right'].set_visible(False)\n",
        "ax2.set_xlim(0, (df['Time'][df['Class'] == 1].max()))\n",
        "\n",
        "\n",
        "plt.tight_layout()"
      ],
      "metadata": {
        "colab": {
          "base_uri": "https://localhost:8080/",
          "height": 441
        },
        "id": "ezRfyYvKUkSh",
        "outputId": "c96486a4-db94-4c32-bd38-3004174dbf21"
      },
      "execution_count": null,
      "outputs": [
        {
          "output_type": "display_data",
          "data": {
            "text/plain": [
              "<Figure size 864x432 with 2 Axes>"
            ],
            "image/png": "[encoded data removed]"
          },
          "metadata": {
            "needs_background": "light"
          }
        }
      ]
    },
    {
      "cell_type": "markdown",
      "source": [
        "Abixo temos um gráfico de caixa para vizualiar fraudes e transações normais.\n",
        "O gráfico de caixa (também conhecido como box plot) é uma representação gráfica usada para resumir a distribuição de um conjunto de dados. Ele apresenta uma visão geral da dispersão dos dados, incluindo informações sobre a mediana, os quartis, o mínimo, o máximo e os valores atípicos.\n",
        "\n",
        "\n",
        "O gráfico de caixa é útil para comparar a distribuição de vários conjuntos de dados, bem como para identificar valores atípicos. "
      ],
      "metadata": {
        "id": "XaI5XrtK2W-c"
      }
    },
    {
      "cell_type": "code",
      "source": [
        "fig, ax = plt.subplots(figsize=(12,6))\n",
        "\n",
        "# Plot the first box plot using the first dataset\n",
        "ax.boxplot(df['Amount'][df['Class'] == 1], positions=[1])\n",
        "\n",
        "# Plot the second box plot using the second dataset\n",
        "ax.boxplot(df['Amount'][df['Class'] == 0], positions=[2])\n",
        "\n",
        "ax.set_title(\"Boxplot Fraude e Normal \")\n",
        "ax.set_xlabel(\"Class\")\n",
        "ax.set_ylabel(\"Amount\")\n",
        "ax.spines['top'].set_visible(False)\n",
        "ax.spines['right'].set_visible(False)\n",
        "ax.spines['bottom'].set_visible(False)\n",
        "ax.set_xticks([])   # remove y-tick labels for the first subplot\n",
        "ax.set_ylim(0, 1500)\n",
        "plt.xticks([2, 1], ['Normal', 'Fraude'])\n",
        "\n",
        "\n",
        "plt.subplots_adjust(wspace=100, hspace=-50)\n",
        "\n",
        "plt.tight_layout()"
      ],
      "metadata": {
        "colab": {
          "base_uri": "https://localhost:8080/",
          "height": 441
        },
        "id": "8rG5S6qWeMvE",
        "outputId": "1742a220-dccb-4c9b-cd97-aeb1f02766f4"
      },
      "execution_count": 33,
      "outputs": [
        {
          "output_type": "display_data",
          "data": {
            "text/plain": [
              "<Figure size 864x432 with 1 Axes>"
            ],
            "image/png": "[encoded data removed]"
          },
          "metadata": {
            "needs_background": "light"
          }
        }
      ]
    },
    {
      "cell_type": "markdown",
      "source": [
        "A função \"corr()\" é usada para calcular a correlação entre variáveis em uma base de dados. \n",
        "A correlação é uma medida estatística que descreve a força e a direção da relação linear entre duas variáveis.\n",
        "já um heatmap é um tipo de gráfico de visualização de dados que apresenta informações em forma de matriz, onde as células são coloridas com base em seus valores. Heatmaps são usados para representar dados multivariados, especialmente para mostrar a correlação entre variáveis. "
      ],
      "metadata": {
        "id": "VJ_UgrGb29ST"
      }
    },
    {
      "cell_type": "code",
      "source": [
        "corr = df.corr()\n",
        "corr= corr.round(2)\n",
        "\n",
        "# Create a figure and an Axes object\n",
        "fig, ax = plt.subplots(figsize=(20, 10))\n",
        "\n",
        "# Plot the heatmap\n",
        "sns.heatmap(corr, cmap='RdYlGn', annot=True, ax=ax,)\n",
        "\n",
        "# Set the title\n",
        "ax.set_title(\"Correlation Matrix\")\n",
        "\n",
        "# Show the plot\n",
        "plt.show()"
      ],
      "metadata": {
        "colab": {
          "base_uri": "https://localhost:8080/",
          "height": 637
        },
        "id": "Q4YJSmAQ0lza",
        "outputId": "5e8fe7b1-3448-4016-b983-91fa999c0e63"
      },
      "execution_count": null,
      "outputs": [
        {
          "output_type": "display_data",
          "data": {
            "text/plain": [
              "<Figure size 1440x720 with 2 Axes>"
            ],
            "image/png": "[encoded data removed]"
          },
          "metadata": {
            "needs_background": "light"
          }
        }
      ]
    },
    {
      "cell_type": "markdown",
      "metadata": {
        "id": "ULe7z0jZt0EH"
      },
      "source": [
        "## Preparação dos Dados\n",
        "\n",
        "* Normalizar os dados que ainda não haviam sido pré-processados (`Time` e `Amount`)\n",
        "\n",
        "Fazer uma copia os dados do DataFrame original (df) para um novo DataFrame (df_clean). Em seguida, aplicar a técnica de normalização de padronização aos dados de \"Amount\" e \"Time\". Isso é feito usando a classe StandardScaler do pacote scikit-learn.\n",
        "\n",
        "A técnica de padronização consiste em subtrair a média dos dados e dividir pelo desvio padrão. O resultado é armazenado nas novas colunas \"std_amount\" e \"std_time\".\n",
        "\n",
        "Finalmente, as colunas \"Time\" e \"Amount\" são removidas do DataFrame df_clean. O comando head() no final do código é usado para ver as primeiras entradas do DataFrame normalizado.\n",
        "\n",
        "* Dividir o conjunto de dados entre treino e validação\n",
        "* [*Recomendado*] Balancear o conjunto de dados"
      ]
    },
    {
      "cell_type": "code",
      "metadata": {
        "id": "IqfjG_SUSTi-",
        "colab": {
          "base_uri": "https://localhost:8080/",
          "height": 279
        },
        "outputId": "fb4948ea-6e74-4c2c-97f1-fb7913604578"
      },
      "source": [
        "#Copia\n",
        "df_clean = df.copy()\n",
        "\n",
        "#Padronização\n",
        "std_scaler = StandardScaler()\n",
        "df_clean['std_amount'] = std_scaler.fit_transform(df_clean['Amount'].values.reshape(-1, 1))\n",
        "df_clean['std_time'] = std_scaler.fit_transform(df_clean['Time'].values.reshape(-1, 1))\n",
        "\n",
        "#remoção time e amount antigos\n",
        "df_clean.drop(['Time', 'Amount'], axis=1, inplace=True)\n",
        "\n",
        "# ver as primeiras entradas\n",
        "df_clean.head()"
      ],
      "execution_count": 42,
      "outputs": [
        {
          "output_type": "execute_result",
          "data": {
            "text/plain": [
              "         V1        V2        V3        V4        V5        V6        V7  \\\n",
              "0 -1.359807 -0.072781  2.536347  1.378155 -0.338321  0.462388  0.239599   \n",
              "1  1.191857  0.266151  0.166480  0.448154  0.060018 -0.082361 -0.078803   \n",
              "2 -1.358354 -1.340163  1.773209  0.379780 -0.503198  1.800499  0.791461   \n",
              "3 -0.966272 -0.185226  1.792993 -0.863291 -0.010309  1.247203  0.237609   \n",
              "4 -1.158233  0.877737  1.548718  0.403034 -0.407193  0.095921  0.592941   \n",
              "\n",
              "         V8        V9       V10  ...       V22       V23       V24       V25  \\\n",
              "0  0.098698  0.363787  0.090794  ...  0.277838 -0.110474  0.066928  0.128539   \n",
              "1  0.085102 -0.255425 -0.166974  ... -0.638672  0.101288 -0.339846  0.167170   \n",
              "2  0.247676 -1.514654  0.207643  ...  0.771679  0.909412 -0.689281 -0.327642   \n",
              "3  0.377436 -1.387024 -0.054952  ...  0.005274 -0.190321 -1.175575  0.647376   \n",
              "4 -0.270533  0.817739  0.753074  ...  0.798278 -0.137458  0.141267 -0.206010   \n",
              "\n",
              "        V26       V27       V28  Class  std_amount  std_time  \n",
              "0 -0.189115  0.133558 -0.021053      0    0.244964 -1.996583  \n",
              "1  0.125895 -0.008983  0.014724      0   -0.342475 -1.996583  \n",
              "2 -0.139097 -0.055353 -0.059752      0    1.160686 -1.996562  \n",
              "3 -0.221929  0.062723  0.061458      0    0.140534 -1.996562  \n",
              "4  0.502292  0.219422  0.215153      0   -0.073403 -1.996541  \n",
              "\n",
              "[5 rows x 31 columns]"
            ],
            "text/html": [
              "\n",
              "  <div id=\"df-12e38212-66a8-4bc7-808a-2c9bddb9083b\">\n",
              "    <div class=\"colab-df-container\">\n",
              "      <div>\n",
              "<style scoped>\n",
              "    .dataframe tbody tr th:only-of-type {\n",
              "        vertical-align: middle;\n",
              "    }\n",
              "\n",
              "    .dataframe tbody tr th {\n",
              "        vertical-align: top;\n",
              "    }\n",
              "\n",
              "    .dataframe thead th {\n",
              "        text-align: right;\n",
              "    }\n",
              "</style>\n",
              "<table border=\"1\" class=\"dataframe\">\n",
              "  <thead>\n",
              "    <tr style=\"text-align: right;\">\n",
              "      <th></th>\n",
              "      <th>V1</th>\n",
              "      <th>V2</th>\n",
              "      <th>V3</th>\n",
              "      <th>V4</th>\n",
              "      <th>V5</th>\n",
              "      <th>V6</th>\n",
              "      <th>V7</th>\n",
              "      <th>V8</th>\n",
              "      <th>V9</th>\n",
              "      <th>V10</th>\n",
              "      <th>...</th>\n",
              "      <th>V22</th>\n",
              "      <th>V23</th>\n",
              "      <th>V24</th>\n",
              "      <th>V25</th>\n",
              "      <th>V26</th>\n",
              "      <th>V27</th>\n",
              "      <th>V28</th>\n",
              "      <th>Class</th>\n",
              "      <th>std_amount</th>\n",
              "      <th>std_time</th>\n",
              "    </tr>\n",
              "  </thead>\n",
              "  <tbody>\n",
              "    <tr>\n",
              "      <th>0</th>\n",
              "      <td>-1.359807</td>\n",
              "      <td>-0.072781</td>\n",
              "      <td>2.536347</td>\n",
              "      <td>1.378155</td>\n",
              "      <td>-0.338321</td>\n",
              "      <td>0.462388</td>\n",
              "      <td>0.239599</td>\n",
              "      <td>0.098698</td>\n",
              "      <td>0.363787</td>\n",
              "      <td>0.090794</td>\n",
              "      <td>...</td>\n",
              "      <td>0.277838</td>\n",
              "      <td>-0.110474</td>\n",
              "      <td>0.066928</td>\n",
              "      <td>0.128539</td>\n",
              "      <td>-0.189115</td>\n",
              "      <td>0.133558</td>\n",
              "      <td>-0.021053</td>\n",
              "      <td>0</td>\n",
              "      <td>0.244964</td>\n",
              "      <td>-1.996583</td>\n",
              "    </tr>\n",
              "    <tr>\n",
              "      <th>1</th>\n",
              "      <td>1.191857</td>\n",
              "      <td>0.266151</td>\n",
              "      <td>0.166480</td>\n",
              "      <td>0.448154</td>\n",
              "      <td>0.060018</td>\n",
              "      <td>-0.082361</td>\n",
              "      <td>-0.078803</td>\n",
              "      <td>0.085102</td>\n",
              "      <td>-0.255425</td>\n",
              "      <td>-0.166974</td>\n",
              "      <td>...</td>\n",
              "      <td>-0.638672</td>\n",
              "      <td>0.101288</td>\n",
              "      <td>-0.339846</td>\n",
              "      <td>0.167170</td>\n",
              "      <td>0.125895</td>\n",
              "      <td>-0.008983</td>\n",
              "      <td>0.014724</td>\n",
              "      <td>0</td>\n",
              "      <td>-0.342475</td>\n",
              "      <td>-1.996583</td>\n",
              "    </tr>\n",
              "    <tr>\n",
              "      <th>2</th>\n",
              "      <td>-1.358354</td>\n",
              "      <td>-1.340163</td>\n",
              "      <td>1.773209</td>\n",
              "      <td>0.379780</td>\n",
              "      <td>-0.503198</td>\n",
              "      <td>1.800499</td>\n",
              "      <td>0.791461</td>\n",
              "      <td>0.247676</td>\n",
              "      <td>-1.514654</td>\n",
              "      <td>0.207643</td>\n",
              "      <td>...</td>\n",
              "      <td>0.771679</td>\n",
              "      <td>0.909412</td>\n",
              "      <td>-0.689281</td>\n",
              "      <td>-0.327642</td>\n",
              "      <td>-0.139097</td>\n",
              "      <td>-0.055353</td>\n",
              "      <td>-0.059752</td>\n",
              "      <td>0</td>\n",
              "      <td>1.160686</td>\n",
              "      <td>-1.996562</td>\n",
              "    </tr>\n",
              "    <tr>\n",
              "      <th>3</th>\n",
              "      <td>-0.966272</td>\n",
              "      <td>-0.185226</td>\n",
              "      <td>1.792993</td>\n",
              "      <td>-0.863291</td>\n",
              "      <td>-0.010309</td>\n",
              "      <td>1.247203</td>\n",
              "      <td>0.237609</td>\n",
              "      <td>0.377436</td>\n",
              "      <td>-1.387024</td>\n",
              "      <td>-0.054952</td>\n",
              "      <td>...</td>\n",
              "      <td>0.005274</td>\n",
              "      <td>-0.190321</td>\n",
              "      <td>-1.175575</td>\n",
              "      <td>0.647376</td>\n",
              "      <td>-0.221929</td>\n",
              "      <td>0.062723</td>\n",
              "      <td>0.061458</td>\n",
              "      <td>0</td>\n",
              "      <td>0.140534</td>\n",
              "      <td>-1.996562</td>\n",
              "    </tr>\n",
              "    <tr>\n",
              "      <th>4</th>\n",
              "      <td>-1.158233</td>\n",
              "      <td>0.877737</td>\n",
              "      <td>1.548718</td>\n",
              "      <td>0.403034</td>\n",
              "      <td>-0.407193</td>\n",
              "      <td>0.095921</td>\n",
              "      <td>0.592941</td>\n",
              "      <td>-0.270533</td>\n",
              "      <td>0.817739</td>\n",
              "      <td>0.753074</td>\n",
              "      <td>...</td>\n",
              "      <td>0.798278</td>\n",
              "      <td>-0.137458</td>\n",
              "      <td>0.141267</td>\n",
              "      <td>-0.206010</td>\n",
              "      <td>0.502292</td>\n",
              "      <td>0.219422</td>\n",
              "      <td>0.215153</td>\n",
              "      <td>0</td>\n",
              "      <td>-0.073403</td>\n",
              "      <td>-1.996541</td>\n",
              "    </tr>\n",
              "  </tbody>\n",
              "</table>\n",
              "<p>5 rows × 31 columns</p>\n",
              "</div>\n",
              "      <button class=\"colab-df-convert\" onclick=\"convertToInteractive('df-12e38212-66a8-4bc7-808a-2c9bddb9083b')\"\n",
              "              title=\"Convert this dataframe to an interactive table.\"\n",
              "              style=\"display:none;\">\n",
              "        \n",
              "  <svg xmlns=\"http://www.w3.org/2000/svg\" height=\"24px\"viewBox=\"0 0 24 24\"\n",
              "       width=\"24px\">\n",
              "    <path d=\"M0 0h24v24H0V0z\" fill=\"none\"/>\n",
              "    <path d=\"M18.56 5.44l.94 2.06.94-2.06 2.06-.94-2.06-.94-.94-2.06-.94 2.06-2.06.94zm-11 1L8.5 8.5l.94-2.06 2.06-.94-2.06-.94L8.5 2.5l-.94 2.06-2.06.94zm10 10l.94 2.06.94-2.06 2.06-.94-2.06-.94-.94-2.06-.94 2.06-2.06.94z\"/><path d=\"M17.41 7.96l-1.37-1.37c-.4-.4-.92-.59-1.43-.59-.52 0-1.04.2-1.43.59L10.3 9.45l-7.72 7.72c-.78.78-.78 2.05 0 2.83L4 21.41c.39.39.9.59 1.41.59.51 0 1.02-.2 1.41-.59l7.78-7.78 2.81-2.81c.8-.78.8-2.07 0-2.86zM5.41 20L4 18.59l7.72-7.72 1.47 1.35L5.41 20z\"/>\n",
              "  </svg>\n",
              "      </button>\n",
              "      \n",
              "  <style>\n",
              "    .colab-df-container {\n",
              "      display:flex;\n",
              "      flex-wrap:wrap;\n",
              "      gap: 12px;\n",
              "    }\n",
              "\n",
              "    .colab-df-convert {\n",
              "      background-color: #E8F0FE;\n",
              "      border: none;\n",
              "      border-radius: 50%;\n",
              "      cursor: pointer;\n",
              "      display: none;\n",
              "      fill: #1967D2;\n",
              "      height: 32px;\n",
              "      padding: 0 0 0 0;\n",
              "      width: 32px;\n",
              "    }\n",
              "\n",
              "    .colab-df-convert:hover {\n",
              "      background-color: #E2EBFA;\n",
              "      box-shadow: 0px 1px 2px rgba(60, 64, 67, 0.3), 0px 1px 3px 1px rgba(60, 64, 67, 0.15);\n",
              "      fill: #174EA6;\n",
              "    }\n",
              "\n",
              "    [theme=dark] .colab-df-convert {\n",
              "      background-color: #3B4455;\n",
              "      fill: #D2E3FC;\n",
              "    }\n",
              "\n",
              "    [theme=dark] .colab-df-convert:hover {\n",
              "      background-color: #434B5C;\n",
              "      box-shadow: 0px 1px 3px 1px rgba(0, 0, 0, 0.15);\n",
              "      filter: drop-shadow(0px 1px 2px rgba(0, 0, 0, 0.3));\n",
              "      fill: #FFFFFF;\n",
              "    }\n",
              "  </style>\n",
              "\n",
              "      <script>\n",
              "        const buttonEl =\n",
              "          document.querySelector('#df-12e38212-66a8-4bc7-808a-2c9bddb9083b button.colab-df-convert');\n",
              "        buttonEl.style.display =\n",
              "          google.colab.kernel.accessAllowed ? 'block' : 'none';\n",
              "\n",
              "        async function convertToInteractive(key) {\n",
              "          const element = document.querySelector('#df-12e38212-66a8-4bc7-808a-2c9bddb9083b');\n",
              "          const dataTable =\n",
              "            await google.colab.kernel.invokeFunction('convertToInteractive',\n",
              "                                                     [key], {});\n",
              "          if (!dataTable) return;\n",
              "\n",
              "          const docLinkHtml = 'Like what you see? Visit the ' +\n",
              "            '<a target=\"_blank\" href=https://colab.research.google.com/notebooks/data_table.ipynb>data table notebook</a>'\n",
              "            + ' to learn more about interactive tables.';\n",
              "          element.innerHTML = '';\n",
              "          dataTable['output_type'] = 'display_data';\n",
              "          await google.colab.output.renderOutput(dataTable, element);\n",
              "          const docLink = document.createElement('div');\n",
              "          docLink.innerHTML = docLinkHtml;\n",
              "          element.appendChild(docLink);\n",
              "        }\n",
              "      </script>\n",
              "    </div>\n",
              "  </div>\n",
              "  "
            ]
          },
          "metadata": {},
          "execution_count": 42
        }
      ]
    },
    {
      "cell_type": "markdown",
      "source": [
        "Com os valores padronizados podemos dividir o conjunto de dados entre treino e validação usando a função train_test_split. A função divide os dados em dois conjuntos, um usado para treinamento e outro usado para validação. \n",
        "\n",
        "Estamos usando as colunas sem a coluna 'Class' como dados de treinamento (X_train) e a coluna 'Class' como rótulos de treinamento (y_train)."
      ],
      "metadata": {
        "id": "NDadTmeN50bP"
      }
    },
    {
      "cell_type": "code",
      "source": [
        "# separar variáveis entre X e y com as colunas escolhidas y vai ser ser o alvo \n",
        "X = df_clean.drop('Class', axis=1)\n",
        "y = df['Class']\n",
        "\n",
        "# dividir o dataset entre treino e teste\n",
        "X_train, X_test, y_train, y_test = train_test_split(X, y, random_state=1,stratify=y, shuffle=True)\n",
        "\n",
        "print('X Train : ', X_train.shape )\n",
        "print('Test : ', X_test.shape)\n",
        "print('Y Train : ', y_train.shape)\n",
        "print('y Test : ',y_test.shape)\n",
        "print('Fraude:', sum(y==1))\n",
        "print('Normal:', sum(y==0))"
      ],
      "metadata": {
        "id": "0Q1LwRw8vs2U",
        "colab": {
          "base_uri": "https://localhost:8080/"
        },
        "outputId": "a7260d67-62cd-4bcf-aad6-b09ec8015a1d"
      },
      "execution_count": null,
      "outputs": [
        {
          "output_type": "stream",
          "name": "stdout",
          "text": [
            "X Train :  (213605, 30)\n",
            "Test :  (71202, 30)\n",
            "Y Train :  (213605,)\n",
            "y Test :  (71202,)\n",
            "Fraude: 492\n",
            "Normal: 284315\n"
          ]
        }
      ]
    },
    {
      "cell_type": "markdown",
      "source": [
        "Vamos normalizar as variáveis de entrada com StandardScaler. Isso é feito para que todas as variáveis tenham a mesma escala e, assim, o modelo não seja afetado desproporcionalmente por variáveis com escalas diferentes.\n",
        "\n",
        "em seguida vamos balancear os dados utilizando o RandomUnderSampler, que é usado para diminuir a quantidade de exemplos da classe majoritária. Isso é feito para garantir que o modelo não seja afetado pelo desequilíbrio de classes. \n",
        "\n",
        "E tambem dividiremos os dados balanceados em conjuntos de treinamento e teste."
      ],
      "metadata": {
        "id": "RexaYsWlmwT3"
      }
    },
    {
      "cell_type": "code",
      "source": [
        "# Normalizar\n",
        "scaler = StandardScaler()\n",
        "X = scaler.fit_transform(X)\n",
        "\n",
        "# Balancear\n",
        "ros = RandomUnderSampler()\n",
        "X , y = ros.fit_resample(X,y)\n",
        "\n",
        "# dividir o dataset entre treino e teste\n",
        "X_train, X_test, y_train, y_test = train_test_split(X, y, random_state=1,stratify=y, shuffle=True)\n",
        "print('X Train : ', X_train.shape)\n",
        "print('y Train : ', y_train.shape)\n",
        "print('X Test : ', X_test.shape)\n",
        "print('y Test : ',y_test.shape)\n",
        "print('Fraude:', sum(y==1))\n",
        "print('Normal:', sum(y==0))"
      ],
      "metadata": {
        "colab": {
          "base_uri": "https://localhost:8080/"
        },
        "id": "cgsx_O-Yb_ao",
        "outputId": "ffcf007d-771c-4912-8af7-9abb35438f41"
      },
      "execution_count": null,
      "outputs": [
        {
          "output_type": "stream",
          "name": "stdout",
          "text": [
            "X Train :  (738, 30)\n",
            "y Train :  (738,)\n",
            "X Test :  (246, 30)\n",
            "y Test :  (246,)\n",
            "Fraude: 492\n",
            "Normal: 492\n"
          ]
        }
      ]
    },
    {
      "cell_type": "markdown",
      "source": [
        "Agora temos a mesma quantidade de valores para transações normais e fraudes, sendo eles 492. Agora podemos seguir para o treino e teste de modelos de aprendizado de máquina."
      ],
      "metadata": {
        "id": "fJn8zf0y8Igf"
      }
    },
    {
      "cell_type": "markdown",
      "source": [
        "##Modelo k-nearest neighbors\n",
        "\n",
        "KNN (k-nearest neighbors) é um algoritmo de aprendizado de máquina supervisionado que pode ser usado para classificação ou regressão. Ele funciona armazenando todos os dados de treinamento e, quando um novo dado é fornecido, ele encontra os k vizinhos mais próximos a esse novo dado e usa a classe predominante entre esses vizinhos como a previsão para esse novo dado. Ele é amplamente utilizado devido à sua simplicidade e facilidade de implementação.\n",
        "\n",
        "Primeiramente vou utilizar um loop for para descobrir o número de vizinhos a serem considerados no algoritmo que apresente o melhor desempenho, baseado no menor falso positivo da matriz de confusão, pois por se tratar de um projeto de fraude de cartão, queremos detectar o máximo possivel de fraudes.\n",
        "\n",
        "A matrix de confusão é uma ferramenta importante para avaliar o desempenho de um modelo de classificação. Ele fornece uma visão geral das previsões corretas e erradas feitas pelo modelo\n",
        "\n",
        "<p align=left>\n",
        "<img src=\"https://miro.medium.com/max/1400/1*T8Pnw0kiVbrPGnqnB2I_Zw.jpeg\" width=\"60%\"></p>"
      ],
      "metadata": {
        "id": "IZoLPDHTTgom"
      }
    },
    {
      "cell_type": "code",
      "source": [
        "#Getting the best parammer\n",
        "acc1 = 100\n",
        "for i in range(1,50):\n",
        "    knn_model = KNeighborsClassifier(n_neighbors=i)\n",
        "    knn_model.fit(X_train, y_train)\n",
        "    y_pred_knn = knn_model.predict(X_test)\n",
        "    matrix_confi = confusion_matrix(y_test, y_pred_knn)  \n",
        "    false_negative = int(matrix_confi[1][0])\n",
        "    if false_negative < acc1:\n",
        "        acc1 = false_negative\n",
        "        n_nei = i\n",
        "print('n_neighbors:', n_nei)\n"
      ],
      "metadata": {
        "colab": {
          "base_uri": "https://localhost:8080/"
        },
        "id": "i3nmJNweTkAl",
        "outputId": "ae7aff6b-5f30-4bde-a8ba-90503c083eee"
      },
      "execution_count": null,
      "outputs": [
        {
          "output_type": "stream",
          "name": "stdout",
          "text": [
            "n_neighbors: 1\n"
          ]
        }
      ]
    },
    {
      "cell_type": "markdown",
      "source": [
        "\n",
        "O valor de k=1 foi considerado o valor ideal para k, pois apresentou o menor valor de falso negativo.\n",
        " \n",
        "Agora iremos treinar nosso modelo e analisar o desempenho."
      ],
      "metadata": {
        "id": "KXzFyBtBgJSF"
      }
    },
    {
      "cell_type": "code",
      "source": [
        "#Criar o modelo k-nearest neighbors e treinar com dados de treino\n",
        "knn_model = KNeighborsClassifier(n_neighbors =n_nei)\n",
        "knn_model.fit(X_train, y_train)\n",
        "\n",
        "#validar com dados de teste\n",
        "y_pred_knn = knn_model.predict(X_test)"
      ],
      "metadata": {
        "id": "hvcW_dR-TpC1"
      },
      "execution_count": null,
      "outputs": []
    },
    {
      "cell_type": "markdown",
      "source": [
        "\n",
        "Com o modelo ja treinado vamos avaliar a precisão do modelo usando dados de validação e calcular métricas como acurácia, F1 score, precisão e recall entre outras.\n"
      ],
      "metadata": {
        "id": "NCqYigRrrYw8"
      }
    },
    {
      "cell_type": "code",
      "source": [
        "#Avaliação do modelo knn com os dados de teste comparados com os dados reais\n",
        "knn_mae = mean_absolute_error(y_test, y_pred_knn)\n",
        "knn_mse = mean_squared_error(y_test, y_pred_knn)\n",
        "knn_rmse = np.sqrt(knn_mse)\n",
        "knn_accuracy = knn_model.score(X_test, y_test)\n",
        "knn_confusion_matrix = confusion_matrix(y_test, y_pred_knn)\n",
        "\n",
        "print(\"Accuracy: \", knn_accuracy)\n",
        "print(\"MAE:\", knn_mae)\n",
        "print(\"RMSE:\", knn_rmse)\n",
        "print(classification_report(y_test, y_pred_knn))\n",
        "print(\"Confusion Matrix:\", knn_confusion_matrix)"
      ],
      "metadata": {
        "id": "JeYbnjtiTqwE",
        "colab": {
          "base_uri": "https://localhost:8080/"
        },
        "outputId": "9ba8ad7c-9573-470d-c3f9-00bcde91cfe8"
      },
      "execution_count": null,
      "outputs": [
        {
          "output_type": "stream",
          "name": "stdout",
          "text": [
            "Accuracy:  0.9349593495934959\n",
            "MAE: 0.06504065040650407\n",
            "RMSE: 0.25503068522533534\n",
            "              precision    recall  f1-score   support\n",
            "\n",
            "           0       0.91      0.96      0.94       123\n",
            "           1       0.96      0.91      0.93       123\n",
            "\n",
            "    accuracy                           0.93       246\n",
            "   macro avg       0.94      0.93      0.93       246\n",
            "weighted avg       0.94      0.93      0.93       246\n",
            "\n",
            "Confusion Matrix: [[118   5]\n",
            " [ 11 112]]\n"
          ]
        }
      ]
    },
    {
      "cell_type": "markdown",
      "source": [
        "Acurácia: 0.93 é a proporção de previsões corretas feitas pelo modelo em relação ao total de previsões.\n",
        "\n",
        "MAE (mean absolute error): 0.06 é a média do erro absoluto. Este é um indicador da diferença entre as previsões do modelo e os valores reais. Quanto menor o MAE, melhor é o desempenho do modelo.\n",
        "\n",
        "RMSE (root mean squared error): 0.25 é a raiz quadrada da média dos erros ao quadrado. É uma medida mais intensa da diferença entre as previsões do modelo e os valores reais. Quanto menor o RMSE, melhor é o desempenho do modelo.\n",
        "\n",
        "A precisão, recall e f1-score são métricas de desempenho utilizadas para avaliar modelos de classificação. A precisão indica a porcentagem de previsões corretas do modelo, o recall indica a porcentagem de instâncias positivas que foram corretamente identificadas pelo modelo e o f1-score é a média harmônica entre precisão e recall.\n",
        "\n",
        "Matriz de confusão: A matriz de confusão apresentada mostra o número de previsões corretas (120 e 110) e previsões erradas (3 e 13) para cada classe. A matriz de confusão pode ser usada para avaliar o desempenho do modelo em relação a cada classe.\n",
        "\n"
      ],
      "metadata": {
        "id": "Ot2ri3IQh3ax"
      }
    },
    {
      "cell_type": "markdown",
      "source": [
        "## Naive Bayes\n",
        "\n",
        "\n",
        "Naive Bayes é um algoritmo de classificação baseado na Teorema de Bayes. Ele é chamado de \"naive\" porque assume que todas as variáveis independentes (características) são independentes entre si, isso significa que a presença ou ausência de uma característica não afeta a presença ou ausência de outra característica. O que geralmente não é verdade, ainda assim pode ser eficaz em muitos casos. \n",
        "\n",
        "<p align=left>\n",
        "<img src=\"https://miro.medium.com/max/1101/1*0a2wA8H1nbyEXILf0WBcHA.png\" width=\"60%\"></p>"
      ],
      "metadata": {
        "id": "PkVpdGstTryV"
      }
    },
    {
      "cell_type": "code",
      "source": [
        "#Criar o modelo Naive Bayes e treinar com dados de treino\n",
        "nb_model = GaussianNB()\n",
        "nb_model = nb_model.fit(X_train, y_train)\n",
        "\n",
        "#validar com dados de teste\n",
        "y_pred_nb = nb_model.predict(X_test)"
      ],
      "metadata": {
        "id": "MTDT6JoETwSl"
      },
      "execution_count": null,
      "outputs": []
    },
    {
      "cell_type": "code",
      "source": [
        "#Avaliação do modelo Naive Bayes com os dados de teste comparados com os dados reais\n",
        "nb_mae = mean_absolute_error(y_test, y_pred_nb)\n",
        "nb_mse = mean_squared_error(y_test, y_pred_nb)\n",
        "nb_rmse = np.sqrt(nb_mse)\n",
        "nb_accuracy = nb_model.score(X_test, y_test)\n",
        "nb_confusion_matrix = confusion_matrix(y_test, y_pred_nb)\n",
        "print(\"MAE:\", nb_mae)\n",
        "print(\"RMSE:\", nb_rmse)\n",
        "print(\"Accuracy:\", accuracy_score(y_test, y_pred_nb))\n",
        "print(classification_report(y_test, y_pred_nb))\n",
        "print(\"Confusion Matrix:\", nb_confusion_matrix)"
      ],
      "metadata": {
        "id": "LLRfyAOgTyLU",
        "colab": {
          "base_uri": "https://localhost:8080/"
        },
        "outputId": "4c3bab3f-5fc4-448e-98a7-1b83529fa7b8"
      },
      "execution_count": null,
      "outputs": [
        {
          "output_type": "stream",
          "name": "stdout",
          "text": [
            "MAE: 0.08130081300813008\n",
            "RMSE: 0.2851329742561005\n",
            "Accuracy: 0.9186991869918699\n",
            "              precision    recall  f1-score   support\n",
            "\n",
            "           0       0.88      0.97      0.92       123\n",
            "           1       0.96      0.87      0.91       123\n",
            "\n",
            "    accuracy                           0.92       246\n",
            "   macro avg       0.92      0.92      0.92       246\n",
            "weighted avg       0.92      0.92      0.92       246\n",
            "\n",
            "Confusion Matrix: [[119   4]\n",
            " [ 16 107]]\n"
          ]
        }
      ]
    },
    {
      "cell_type": "markdown",
      "source": [
        "Acurácia: 0.91 \n",
        "\n",
        "MAE: 0.089\n",
        "\n",
        "RMSE: 0.30 \n",
        "\n",
        "Matriz de confusão: previsões corretas (119 e 105) e previsões erradas (4 e 18) \n",
        "\n",
        "Desempenho do modelo foi um pouco inferior quando comparado ao KNN."
      ],
      "metadata": {
        "id": "5bQv7JLRkpFz"
      }
    },
    {
      "cell_type": "markdown",
      "source": [
        "##Logistic Regretion\n",
        "\n",
        "\n",
        "A Regressão Logística é um tipo de modelo de classificação que é usado para prever a probabilidade de uma amostra pertencer a uma determinada classe. Ele se baseia na teoria de probabilidade e utiliza a função logística para modelar a relação entre a variável dependente e as variáveis ​​independentes.\n",
        "O objetivo é encontrar os melhores coeficientes (parâmetros) do modelo para prever a classe de uma amostra desconhecida com base nas suas características.\n",
        "\n",
        "<p align=left>\n",
        "<img src=\"https://pimages.toolbox.com/wp-content/uploads/2022/04/11040522/46-4.png\" width=\"60%\"></p>"
      ],
      "metadata": {
        "id": "H9k88cBCT0yM"
      }
    },
    {
      "cell_type": "code",
      "source": [
        "#Criar o modelo de Logistic Regretion e treinar com dados de treino\n",
        "regre_model = LogisticRegression(random_state=1)\n",
        "regre_model.fit(X_train, y_train)\n",
        "\n",
        "#validar com dados de teste\n",
        "y_pred_regre = regre_model.predict(X_test)"
      ],
      "metadata": {
        "id": "NaHc5y8v_FZk"
      },
      "execution_count": null,
      "outputs": []
    },
    {
      "cell_type": "code",
      "source": [
        "#Avaliação do modelo Logistic Regretion com os dados de teste comparados com os dados reais\n",
        "regre_mae = mean_absolute_error(y_test, y_pred_regre)\n",
        "regre_mse = mean_squared_error(y_test, y_pred_regre)\n",
        "regre_rmse = np.sqrt(regre_mse)\n",
        "regre_accuracy = regre_model.score(X_test, y_test)\n",
        "regre_confusion_matrix = confusion_matrix(y_test, y_pred_regre)\n",
        "print(\"MAE:\", regre_mae)\n",
        "print(\"RMSE:\", regre_rmse)\n",
        "print(\"Accuracy:\", accuracy_score(y_test, y_pred_regre))\n",
        "print(classification_report(y_test, y_pred_regre))\n",
        "print(\"Confusion Matrix:\", regre_confusion_matrix)"
      ],
      "metadata": {
        "colab": {
          "base_uri": "https://localhost:8080/"
        },
        "id": "jv3p65DLl9P5",
        "outputId": "ae46df36-18f4-424f-9877-92a1ad9d99a2"
      },
      "execution_count": null,
      "outputs": [
        {
          "output_type": "stream",
          "name": "stdout",
          "text": [
            "MAE: 0.06504065040650407\n",
            "RMSE: 0.25503068522533534\n",
            "Accuracy: 0.9349593495934959\n",
            "              precision    recall  f1-score   support\n",
            "\n",
            "           0       0.90      0.98      0.94       123\n",
            "           1       0.97      0.89      0.93       123\n",
            "\n",
            "    accuracy                           0.93       246\n",
            "   macro avg       0.94      0.93      0.93       246\n",
            "weighted avg       0.94      0.93      0.93       246\n",
            "\n",
            "Confusion Matrix: [[120   3]\n",
            " [ 13 110]]\n"
          ]
        }
      ]
    },
    {
      "cell_type": "markdown",
      "source": [
        "Acurácia: 0.94 \n",
        "\n",
        "MAE: 0.060\n",
        "\n",
        "RMSE: 0.24 \n",
        "\n",
        "Matriz de confusão: previsões corretas (119 e 112) e previsões erradas (4 e 11) \n",
        "\n",
        "Em geral, estes resultados indicam que o modelo tem desempenho muito bom, sendo os resultados desse modelo superiores aos dois modelos treinandos anteriormente."
      ],
      "metadata": {
        "id": "ftUZILz7uRTI"
      }
    },
    {
      "cell_type": "markdown",
      "source": [
        "## Decision Tree\n",
        "\n",
        "\n",
        "\n",
        "A Árvore de Decisão é um algoritmo de aprendizado de máquina supervisionado que se baseia em um modelo de árvore para fazer previsões. Ele funciona criando ramificações na árvore para representar as decisões que devem ser tomadas ao longo do caminho até a previsão final. As folhas da árvore representam as previsões finais, que podem ser classes ou valores contínuos.\n",
        "<p align=left>\n",
        "<img src=\"https://repository-images.githubusercontent.com/186166778/48227b00-8dbf-11e9-8d62-e0d54cae1431\" width=\"60%\"></p>\n"
      ],
      "metadata": {
        "id": "d8l8vKOml89Y"
      }
    },
    {
      "cell_type": "code",
      "source": [
        "#Criar o modelo de Decision Tree e treinar com dados de treino\n",
        "tree_model = DecisionTreeRegressor()\n",
        "tree_model.fit(X_train, y_train)\n",
        "\n",
        "#validar com dados de teste\n",
        "y_pred_tree = knn_model.predict(X_test)"
      ],
      "metadata": {
        "id": "bn_vlSmCqqvK"
      },
      "execution_count": null,
      "outputs": []
    },
    {
      "cell_type": "code",
      "source": [
        "#Avaliação do modelo Decision Tree com os dados de teste comparados com os dados reais\n",
        "tree_mae = mean_absolute_error(y_test, y_pred_tree)\n",
        "tree_mse = mean_squared_error(y_test, y_pred_tree)\n",
        "tree_rmse = np.sqrt(tree_mse)\n",
        "tree_accuracy = tree_model.score(X_test, y_test)\n",
        "tree_confusion_matrix = confusion_matrix(y_test, y_pred_tree)\n",
        "\n",
        "print(\"MAE:\", tree_mae)\n",
        "print(\"RMSE:\", tree_rmse)\n",
        "print(\"Accuracy:\", accuracy_score(y_test, y_pred_tree))\n",
        "print(classification_report(y_test, y_pred_tree))\n",
        "print(\"Confusion Matrix:\", tree_confusion_matrix)"
      ],
      "metadata": {
        "colab": {
          "base_uri": "https://localhost:8080/"
        },
        "id": "kdaTbJCdq2rR",
        "outputId": "47c2ce2d-01d2-4fe2-bbe8-84fccea31986"
      },
      "execution_count": null,
      "outputs": [
        {
          "output_type": "stream",
          "name": "stdout",
          "text": [
            "MAE: 0.06504065040650407\n",
            "RMSE: 0.25503068522533534\n",
            "Accuracy: 0.9349593495934959\n",
            "              precision    recall  f1-score   support\n",
            "\n",
            "           0       0.91      0.96      0.94       123\n",
            "           1       0.96      0.91      0.93       123\n",
            "\n",
            "    accuracy                           0.93       246\n",
            "   macro avg       0.94      0.93      0.93       246\n",
            "weighted avg       0.94      0.93      0.93       246\n",
            "\n",
            "Confusion Matrix: [[118   5]\n",
            " [ 11 112]]\n"
          ]
        }
      ]
    },
    {
      "cell_type": "markdown",
      "source": [
        "Acurácia: 0.93\n",
        "\n",
        "MAE: 0.065\n",
        "\n",
        "RMSE: 0.25\n",
        "\n",
        "Matriz de confusão: previsões corretas (123 e 107) e previsões erradas (0 e 16) \n",
        "\n",
        "Em geral, estes resultados são bons mas são inferiores ao da regressçao logistica."
      ],
      "metadata": {
        "id": "GmkYeqftvU7G"
      }
    },
    {
      "cell_type": "code",
      "source": [
        "matrix = [knn_confusion_matrix, nb_confusion_matrix, regre_confusion_matrix, tree_confusion_matrix]\n",
        "\n",
        "# Define o nome dos modelos\n",
        "model_names = ['k-nearest neighbors', 'Naive Bayes', 'Logistic Regretion', 'Decision Tree']\n",
        "\n",
        "# Cria o gráfico de barras para os acertos\n",
        "fig, (ax1,ax2,ax3,ax4) = plt.subplots(nrows=4, ncols=1, figsize=(8,15));\n",
        "\n",
        "\n",
        "ax1.barh(model_names, [matrix[i][0][0] for i in range(4)])\n",
        "ax1.set_title(\" Previsões corretas (Normal)\")\n",
        "ax1.set_ylabel(\"\")\n",
        "ax1.set_ylabel(\"\")\n",
        "ax1.spines['top'].set_visible(False)\n",
        "ax1.spines['right'].set_visible(False)\n",
        "\n",
        "\n",
        "ax2.barh(model_names, [matrix[i][1][1] for i in range(4)])\n",
        "ax2.set_title(\" Previsões corretas (Fraudes)\")\n",
        "ax2.set_ylabel(\"\")\n",
        "ax2.spines['top'].set_visible(False)\n",
        "ax2.spines['right'].set_visible(False)\n",
        "\n",
        "\n",
        "ax3.barh(model_names, [matrix[i][0][1] for i in range(4)])\n",
        "ax3.set_title(\" Previsões erradas (Normal\")\n",
        "ax3.set_ylabel(\"\")\n",
        "ax3.spines['top'].set_visible(False)\n",
        "ax3.spines['right'].set_visible(False)\n",
        "\n",
        "\n",
        "ax4.barh(model_names, [matrix[i][1][0] for i in range(4)])\n",
        "ax4.set_title(\" Previsões erradas (Fraudes)\", fontweight='bold')\n",
        "ax4.set_ylabel(\"\")\n",
        "ax4.spines['top'].set_visible(False)\n",
        "ax4.spines['right'].set_visible(False)\n",
        "\n",
        "#Distancia do título\n",
        "fig.subplots_adjust(top=0.9, hspace=0.5)\n",
        "\n",
        "# título principal\n",
        "plt.suptitle(\"Comparação das previsões dos modelos\", fontsize=20, fontweight='bold',y=0.95)\n",
        "\n",
        "#Adicionar valores nas barras\n",
        "for i in range(4):\n",
        "    ax1.text(60, i, matrix[i][0][0], va='center', ha='center', fontweight='bold')\n",
        "    ax2.text(56.5, i, matrix[i][1][1], va='center', ha='center', fontweight='bold')\n",
        "    ax3.text(2.5, i, matrix[i][0][1], va='center', ha='center', fontweight='bold')\n",
        "    ax4.text(8, i, matrix[i][1][0], va='center', ha='center', fontweight='bold')\n",
        "\n",
        "plt.show()"
      ],
      "metadata": {
        "colab": {
          "base_uri": "https://localhost:8080/",
          "height": 939
        },
        "id": "Dla_3HC3q4n3",
        "outputId": "9969b258-3b1e-496c-95ad-2b37f632cfb5"
      },
      "execution_count": null,
      "outputs": [
        {
          "output_type": "display_data",
          "data": {
            "text/plain": [
              "<Figure size 576x1080 with 4 Axes>"
            ],
            "image/png": "[encoded data removed]"
          },
          "metadata": {
            "needs_background": "light"
          }
        }
      ]
    }
  ]
}